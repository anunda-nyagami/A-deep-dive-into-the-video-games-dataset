{
 "cells": [
  {
   "cell_type": "markdown",
   "id": "d0dcf985",
   "metadata": {
    "papermill": {
     "duration": 0.011193,
     "end_time": "2022-09-26T19:14:15.776847",
     "exception": false,
     "start_time": "2022-09-26T19:14:15.765654",
     "status": "completed"
    },
    "tags": []
   },
   "source": [
    "# Analysis of the video games dataset"
   ]
  },
  {
   "cell_type": "code",
   "execution_count": 1,
   "id": "e0e0b7bd",
   "metadata": {
    "_cell_guid": "b1076dfc-b9ad-4769-8c92-a6c4dae69d19",
    "_uuid": "8f2839f25d086af736a60e9eeb907d3b93b6e0e5",
    "execution": {
     "iopub.execute_input": "2022-09-26T19:14:15.799150Z",
     "iopub.status.busy": "2022-09-26T19:14:15.798119Z",
     "iopub.status.idle": "2022-09-26T19:14:17.154042Z",
     "shell.execute_reply": "2022-09-26T19:14:17.152751Z"
    },
    "papermill": {
     "duration": 1.369652,
     "end_time": "2022-09-26T19:14:17.156593",
     "exception": false,
     "start_time": "2022-09-26T19:14:15.786941",
     "status": "completed"
    },
    "tags": []
   },
   "outputs": [
    {
     "name": "stdout",
     "output_type": "stream",
     "text": [
      "/kaggle/input/video-game-ratings-from-imdb/imdb_video_game_rating.csv\n"
     ]
    }
   ],
   "source": [
    "# This Python 3 environment comes with many helpful analytics libraries installed\n",
    "# It is defined by the kaggle/python Docker image: https://github.com/kaggle/docker-python\n",
    "# For example, here's several helpful packages to load\n",
    "\n",
    "import numpy as np # linear algebra\n",
    "import pandas as pd # data processing, CSV file I/O (e.g. pd.read_csv)\n",
    "import seaborn as sns\n",
    "import matplotlib.pyplot as plt\n",
    "from statsmodels.formula.api import ols\n",
    "from itertools import product\n",
    "\n",
    "import os\n",
    "for dirname, _, filenames in os.walk('/kaggle/input'):\n",
    "    for filename in filenames:\n",
    "        print(os.path.join(dirname, filename))\n"
   ]
  },
  {
   "cell_type": "code",
   "execution_count": 2,
   "id": "a24e4959",
   "metadata": {
    "execution": {
     "iopub.execute_input": "2022-09-26T19:14:17.176800Z",
     "iopub.status.busy": "2022-09-26T19:14:17.176389Z",
     "iopub.status.idle": "2022-09-26T19:14:17.182051Z",
     "shell.execute_reply": "2022-09-26T19:14:17.180949Z"
    },
    "papermill": {
     "duration": 0.018329,
     "end_time": "2022-09-26T19:14:17.184317",
     "exception": false,
     "start_time": "2022-09-26T19:14:17.165988",
     "status": "completed"
    },
    "tags": []
   },
   "outputs": [],
   "source": [
    "# Set font size and style\n",
    "plt.rcParams['font.size'] = 18\n",
    "plt.rcParams[\"axes.labelweight\"] = \"bold\"\n",
    "plt.rcParams[\"axes.titleweight\"] = \"bold\"\n",
    "plt.rcParams['axes.titlesize'] = 20"
   ]
  },
  {
   "cell_type": "code",
   "execution_count": 3,
   "id": "6b81afc2",
   "metadata": {
    "execution": {
     "iopub.execute_input": "2022-09-26T19:14:17.204614Z",
     "iopub.status.busy": "2022-09-26T19:14:17.204201Z",
     "iopub.status.idle": "2022-09-26T19:14:17.335281Z",
     "shell.execute_reply": "2022-09-26T19:14:17.334279Z"
    },
    "papermill": {
     "duration": 0.144374,
     "end_time": "2022-09-26T19:14:17.338006",
     "exception": false,
     "start_time": "2022-09-26T19:14:17.193632",
     "status": "completed"
    },
    "tags": []
   },
   "outputs": [
    {
     "data": {
      "text/html": [
       "<div>\n",
       "<style scoped>\n",
       "    .dataframe tbody tr th:only-of-type {\n",
       "        vertical-align: middle;\n",
       "    }\n",
       "\n",
       "    .dataframe tbody tr th {\n",
       "        vertical-align: top;\n",
       "    }\n",
       "\n",
       "    .dataframe thead th {\n",
       "        text-align: right;\n",
       "    }\n",
       "</style>\n",
       "<table border=\"1\" class=\"dataframe\">\n",
       "  <thead>\n",
       "    <tr style=\"text-align: right;\">\n",
       "      <th></th>\n",
       "      <th>Unnamed: 0</th>\n",
       "      <th>title</th>\n",
       "      <th>year</th>\n",
       "      <th>genre</th>\n",
       "      <th>rating</th>\n",
       "      <th>votes</th>\n",
       "      <th>directors</th>\n",
       "      <th>plot</th>\n",
       "    </tr>\n",
       "  </thead>\n",
       "  <tbody>\n",
       "    <tr>\n",
       "      <th>0</th>\n",
       "      <td>0</td>\n",
       "      <td>The Last of Us: Part I</td>\n",
       "      <td>2022</td>\n",
       "      <td>Action, Adventure, Drama</td>\n",
       "      <td>9.8</td>\n",
       "      <td>601</td>\n",
       "      <td>Matthew Gallant, Bruce Straley</td>\n",
       "      <td>Experience the emotional storytelling and unfo...</td>\n",
       "    </tr>\n",
       "    <tr>\n",
       "      <th>1</th>\n",
       "      <td>1</td>\n",
       "      <td>Red Dead Redemption II</td>\n",
       "      <td>2018</td>\n",
       "      <td>Action, Adventure, Crime</td>\n",
       "      <td>9.7</td>\n",
       "      <td>36,441</td>\n",
       "      <td>Missing</td>\n",
       "      <td>Amidst the decline of the Wild West at the tur...</td>\n",
       "    </tr>\n",
       "    <tr>\n",
       "      <th>2</th>\n",
       "      <td>2</td>\n",
       "      <td>The Witcher 3: Wild Hunt - Blood and Wine</td>\n",
       "      <td>2016</td>\n",
       "      <td>Action, Adventure, Drama</td>\n",
       "      <td>9.7</td>\n",
       "      <td>7,610</td>\n",
       "      <td>Konrad Tomaszkiewicz</td>\n",
       "      <td>Geralt is in the southern province of Toussain...</td>\n",
       "    </tr>\n",
       "    <tr>\n",
       "      <th>3</th>\n",
       "      <td>3</td>\n",
       "      <td>The Witcher 3: Wild Hunt</td>\n",
       "      <td>2015</td>\n",
       "      <td>Action, Adventure, Drama</td>\n",
       "      <td>9.7</td>\n",
       "      <td>26,328</td>\n",
       "      <td>Konrad Tomaszkiewicz</td>\n",
       "      <td>A monster hunter for hire embarks on an epic j...</td>\n",
       "    </tr>\n",
       "    <tr>\n",
       "      <th>4</th>\n",
       "      <td>4</td>\n",
       "      <td>The Last of Us</td>\n",
       "      <td>2013</td>\n",
       "      <td>Action, Adventure, Drama</td>\n",
       "      <td>9.7</td>\n",
       "      <td>61,103</td>\n",
       "      <td>Neil Druckmann, Bruce Straley</td>\n",
       "      <td>In a hostile, post-pandemic world, Joel and El...</td>\n",
       "    </tr>\n",
       "  </tbody>\n",
       "</table>\n",
       "</div>"
      ],
      "text/plain": [
       "   Unnamed: 0                                      title  year  \\\n",
       "0           0                     The Last of Us: Part I  2022   \n",
       "1           1                     Red Dead Redemption II  2018   \n",
       "2           2  The Witcher 3: Wild Hunt - Blood and Wine  2016   \n",
       "3           3                   The Witcher 3: Wild Hunt  2015   \n",
       "4           4                             The Last of Us  2013   \n",
       "\n",
       "                      genre  rating   votes                       directors  \\\n",
       "0  Action, Adventure, Drama     9.8     601  Matthew Gallant, Bruce Straley   \n",
       "1  Action, Adventure, Crime     9.7  36,441                         Missing   \n",
       "2  Action, Adventure, Drama     9.7   7,610            Konrad Tomaszkiewicz   \n",
       "3  Action, Adventure, Drama     9.7  26,328            Konrad Tomaszkiewicz   \n",
       "4  Action, Adventure, Drama     9.7  61,103   Neil Druckmann, Bruce Straley   \n",
       "\n",
       "                                                plot  \n",
       "0  Experience the emotional storytelling and unfo...  \n",
       "1  Amidst the decline of the Wild West at the tur...  \n",
       "2  Geralt is in the southern province of Toussain...  \n",
       "3  A monster hunter for hire embarks on an epic j...  \n",
       "4  In a hostile, post-pandemic world, Joel and El...  "
      ]
     },
     "metadata": {},
     "output_type": "display_data"
    }
   ],
   "source": [
    "# Import dataset\n",
    "games = pd.read_csv('../input/video-game-ratings-from-imdb/imdb_video_game_rating.csv')\n",
    "display(games.head())"
   ]
  },
  {
   "cell_type": "markdown",
   "id": "78bdc897",
   "metadata": {
    "papermill": {
     "duration": 0.011929,
     "end_time": "2022-09-26T19:14:17.361736",
     "exception": false,
     "start_time": "2022-09-26T19:14:17.349807",
     "status": "completed"
    },
    "tags": []
   },
   "source": [
    "## Data Cleaning and processing"
   ]
  },
  {
   "cell_type": "code",
   "execution_count": 4,
   "id": "cc6457aa",
   "metadata": {
    "execution": {
     "iopub.execute_input": "2022-09-26T19:14:17.382553Z",
     "iopub.status.busy": "2022-09-26T19:14:17.382053Z",
     "iopub.status.idle": "2022-09-26T19:14:17.400371Z",
     "shell.execute_reply": "2022-09-26T19:14:17.399188Z"
    },
    "papermill": {
     "duration": 0.031495,
     "end_time": "2022-09-26T19:14:17.402790",
     "exception": false,
     "start_time": "2022-09-26T19:14:17.371295",
     "status": "completed"
    },
    "tags": []
   },
   "outputs": [],
   "source": [
    "# Drop the first unnamed column\n",
    "games.drop(columns=['Unnamed: 0'],inplace=True)"
   ]
  },
  {
   "cell_type": "code",
   "execution_count": 5,
   "id": "369150ee",
   "metadata": {
    "execution": {
     "iopub.execute_input": "2022-09-26T19:14:17.423330Z",
     "iopub.status.busy": "2022-09-26T19:14:17.422922Z",
     "iopub.status.idle": "2022-09-26T19:14:17.445059Z",
     "shell.execute_reply": "2022-09-26T19:14:17.443856Z"
    },
    "papermill": {
     "duration": 0.035174,
     "end_time": "2022-09-26T19:14:17.447619",
     "exception": false,
     "start_time": "2022-09-26T19:14:17.412445",
     "status": "completed"
    },
    "tags": []
   },
   "outputs": [
    {
     "name": "stdout",
     "output_type": "stream",
     "text": [
      "All the years in the dataset\n"
     ]
    },
    {
     "data": {
      "text/plain": [
       "Index(['2017', '2015', '2016', '2013', '2018', '2005', '2019', '2003', '2002',\n",
       "       '2012', '2006', '2014', '2004', '2010', '2000', '2001', '2009', '1999',\n",
       "       '2011', '2007', '2008', '2020', '1994', '1996', '1998', '1993', '2021',\n",
       "       '1997', '1995', '1992', '1991', '1990', '1989', '1987', '1988', '2022',\n",
       "       '1986', '1984', '1983', '1982', '1985', '1981', 'I)', '1980', 'II)',\n",
       "       '1979', '1978', '1977', '1972', '1976', '1975', 'III)', '1973', '1974',\n",
       "       '1971', '1969', '1948', '1952', '1958', 'IV)', '1962', 'Video', '1970'],\n",
       "      dtype='object')"
      ]
     },
     "metadata": {},
     "output_type": "display_data"
    },
    {
     "name": "stdout",
     "output_type": "stream",
     "text": [
      "\n"
     ]
    },
    {
     "data": {
      "text/plain": [
       "'Incorrect years'"
      ]
     },
     "metadata": {},
     "output_type": "display_data"
    },
    {
     "data": {
      "text/plain": [
       "['I)', 'II)', 'III)', 'IV)', 'Video']"
      ]
     },
     "metadata": {},
     "output_type": "display_data"
    }
   ],
   "source": [
    "# Convert year and votes columns to integers\n",
    "years_list = games.year.value_counts().index\n",
    "print('All the years in the dataset')\n",
    "display(years_list)\n",
    "print()\n",
    "\n",
    "# Extract incorrect years that do not start with 1 or 2\n",
    "incorrect_years = [year for year in years_list if (not year.startswith('1')) if (not year.startswith('2'))]\n",
    "\n",
    "#Show incorrect years\n",
    "display('Incorrect years',incorrect_years)"
   ]
  },
  {
   "cell_type": "markdown",
   "id": "74a422c4",
   "metadata": {
    "papermill": {
     "duration": 0.009647,
     "end_time": "2022-09-26T19:14:17.467336",
     "exception": false,
     "start_time": "2022-09-26T19:14:17.457689",
     "status": "completed"
    },
    "tags": []
   },
   "source": [
    "**Let's find the size of the dataset with incorrect year and replace the values with NaN**"
   ]
  },
  {
   "cell_type": "code",
   "execution_count": 6,
   "id": "5b22f787",
   "metadata": {
    "execution": {
     "iopub.execute_input": "2022-09-26T19:14:17.489055Z",
     "iopub.status.busy": "2022-09-26T19:14:17.488633Z",
     "iopub.status.idle": "2022-09-26T19:14:17.499004Z",
     "shell.execute_reply": "2022-09-26T19:14:17.497685Z"
    },
    "papermill": {
     "duration": 0.024056,
     "end_time": "2022-09-26T19:14:17.501345",
     "exception": false,
     "start_time": "2022-09-26T19:14:17.477289",
     "status": "completed"
    },
    "tags": []
   },
   "outputs": [
    {
     "name": "stdout",
     "output_type": "stream",
     "text": [
      "Number of games with incorrect years is  103\n"
     ]
    }
   ],
   "source": [
    "# Extract games with wrong years\n",
    "games_year_incorrect = games.loc[games['year'].isin(incorrect_years)]\n",
    "print('Number of games with incorrect years is ',len(games_year_incorrect))\n",
    "\n",
    "# Convert incorrect values to nan\n",
    "games.loc[games['year'].isin(incorrect_years),'year'] = np.nan"
   ]
  },
  {
   "cell_type": "code",
   "execution_count": 7,
   "id": "51b43bb8",
   "metadata": {
    "execution": {
     "iopub.execute_input": "2022-09-26T19:14:17.523198Z",
     "iopub.status.busy": "2022-09-26T19:14:17.522525Z",
     "iopub.status.idle": "2022-09-26T19:14:17.550858Z",
     "shell.execute_reply": "2022-09-26T19:14:17.549665Z"
    },
    "papermill": {
     "duration": 0.042725,
     "end_time": "2022-09-26T19:14:17.554031",
     "exception": false,
     "start_time": "2022-09-26T19:14:17.511306",
     "status": "completed"
    },
    "tags": []
   },
   "outputs": [
    {
     "name": "stdout",
     "output_type": "stream",
     "text": [
      "<class 'pandas.core.frame.DataFrame'>\n",
      "RangeIndex: 12635 entries, 0 to 12634\n",
      "Data columns (total 7 columns):\n",
      " #   Column     Non-Null Count  Dtype  \n",
      "---  ------     --------------  -----  \n",
      " 0   title      12635 non-null  object \n",
      " 1   year       12532 non-null  object \n",
      " 2   genre      12635 non-null  object \n",
      " 3   rating     12635 non-null  float64\n",
      " 4   votes      12635 non-null  int64  \n",
      " 5   directors  12635 non-null  object \n",
      " 6   plot       12635 non-null  object \n",
      "dtypes: float64(1), int64(1), object(5)\n",
      "memory usage: 691.1+ KB\n"
     ]
    }
   ],
   "source": [
    "# Convert the votes column to integer\n",
    "games['votes'] = games.votes.apply(lambda x: x.replace(',','')).astype('int')\n",
    "games.info()"
   ]
  },
  {
   "cell_type": "code",
   "execution_count": 8,
   "id": "2c80b26f",
   "metadata": {
    "execution": {
     "iopub.execute_input": "2022-09-26T19:14:17.577887Z",
     "iopub.status.busy": "2022-09-26T19:14:17.577452Z",
     "iopub.status.idle": "2022-09-26T19:14:17.588333Z",
     "shell.execute_reply": "2022-09-26T19:14:17.587406Z"
    },
    "papermill": {
     "duration": 0.025221,
     "end_time": "2022-09-26T19:14:17.590732",
     "exception": false,
     "start_time": "2022-09-26T19:14:17.565511",
     "status": "completed"
    },
    "tags": []
   },
   "outputs": [],
   "source": [
    "# Convert the year column to numeric. \n",
    "# Converting to integer type outputs an error due to presence of null values\n",
    "games['year'] = games['year'].astype('float')\n",
    "\n",
    "# Let's create a decade column to show the decade when the game was launched\n",
    "games['decade'] = np.floor(games['year']//10)*10"
   ]
  },
  {
   "cell_type": "markdown",
   "id": "1b4395fd",
   "metadata": {
    "papermill": {
     "duration": 0.009723,
     "end_time": "2022-09-26T19:14:17.611098",
     "exception": false,
     "start_time": "2022-09-26T19:14:17.601375",
     "status": "completed"
    },
    "tags": []
   },
   "source": [
    "## Exploratory Data Analysis\n",
    "\n",
    "### Game production per decade\n",
    "The production of games has been increasing steadily in each decade. The 1940s, 50s, and 60s had the lowest number of games with one, two and three respectively. The 2020 decade has barely started and the number of games is almost exceeding those produced in the 80s."
   ]
  },
  {
   "cell_type": "code",
   "execution_count": 9,
   "id": "4a6fe3f9",
   "metadata": {
    "execution": {
     "iopub.execute_input": "2022-09-26T19:14:17.633218Z",
     "iopub.status.busy": "2022-09-26T19:14:17.632798Z",
     "iopub.status.idle": "2022-09-26T19:14:17.986590Z",
     "shell.execute_reply": "2022-09-26T19:14:17.985446Z"
    },
    "papermill": {
     "duration": 0.367829,
     "end_time": "2022-09-26T19:14:17.989053",
     "exception": false,
     "start_time": "2022-09-26T19:14:17.621224",
     "status": "completed"
    },
    "tags": []
   },
   "outputs": [
    {
     "data": {
      "image/png": "[encoded data removed]",
      "text/plain": [
       "<Figure size 576x432 with 1 Axes>"
      ]
     },
     "metadata": {},
     "output_type": "display_data"
    }
   ],
   "source": [
    "# Visualize the number of games for each decade using a countplot\n",
    "sns.set()\n",
    "fig, ax = plt.subplots(figsize=(8,6))\n",
    "sns.countplot(x='decade',data=games)\n",
    "ax.set(title='Number of games produced every decade', xlabel='Decade',ylabel='Number of games')\n",
    "plt.tight_layout()\n",
    "plt.show()"
   ]
  },
  {
   "cell_type": "markdown",
   "id": "587ff94f",
   "metadata": {
    "execution": {
     "iopub.execute_input": "2022-09-19T17:25:28.625712Z",
     "iopub.status.busy": "2022-09-19T17:25:28.624655Z",
     "iopub.status.idle": "2022-09-19T17:25:28.638489Z",
     "shell.execute_reply": "2022-09-19T17:25:28.636834Z",
     "shell.execute_reply.started": "2022-09-19T17:25:28.625644Z"
    },
    "papermill": {
     "duration": 0.010527,
     "end_time": "2022-09-26T19:14:18.010127",
     "exception": false,
     "start_time": "2022-09-26T19:14:17.999600",
     "status": "completed"
    },
    "tags": []
   },
   "source": [
    "### Ratings\n",
    "The Last of Us: Part I is the highest rated game in the dataset with 9.8. Among the top 10 highest rated games, two games appear twice i.e. The Last of Us (2013 and 2022) and The Witcher 3 (2015 and 2016). In the nine decades of game production, not a single game has attained the highest possible rating of 10."
   ]
  },
  {
   "cell_type": "code",
   "execution_count": 10,
   "id": "87c4c5c7",
   "metadata": {
    "execution": {
     "iopub.execute_input": "2022-09-26T19:14:18.034974Z",
     "iopub.status.busy": "2022-09-26T19:14:18.034112Z",
     "iopub.status.idle": "2022-09-26T19:14:18.057656Z",
     "shell.execute_reply": "2022-09-26T19:14:18.056293Z"
    },
    "papermill": {
     "duration": 0.038844,
     "end_time": "2022-09-26T19:14:18.060259",
     "exception": false,
     "start_time": "2022-09-26T19:14:18.021415",
     "status": "completed"
    },
    "tags": []
   },
   "outputs": [
    {
     "name": "stdout",
     "output_type": "stream",
     "text": [
      "10 Highest rated games\n"
     ]
    },
    {
     "data": {
      "text/html": [
       "<div>\n",
       "<style scoped>\n",
       "    .dataframe tbody tr th:only-of-type {\n",
       "        vertical-align: middle;\n",
       "    }\n",
       "\n",
       "    .dataframe tbody tr th {\n",
       "        vertical-align: top;\n",
       "    }\n",
       "\n",
       "    .dataframe thead th {\n",
       "        text-align: right;\n",
       "    }\n",
       "</style>\n",
       "<table border=\"1\" class=\"dataframe\">\n",
       "  <thead>\n",
       "    <tr style=\"text-align: right;\">\n",
       "      <th></th>\n",
       "      <th>title</th>\n",
       "      <th>year</th>\n",
       "      <th>genre</th>\n",
       "      <th>rating</th>\n",
       "      <th>votes</th>\n",
       "      <th>directors</th>\n",
       "      <th>plot</th>\n",
       "      <th>decade</th>\n",
       "    </tr>\n",
       "  </thead>\n",
       "  <tbody>\n",
       "    <tr>\n",
       "      <th>0</th>\n",
       "      <td>The Last of Us: Part I</td>\n",
       "      <td>2022.0</td>\n",
       "      <td>Action, Adventure, Drama</td>\n",
       "      <td>9.8</td>\n",
       "      <td>601</td>\n",
       "      <td>Matthew Gallant, Bruce Straley</td>\n",
       "      <td>Experience the emotional storytelling and unfo...</td>\n",
       "      <td>2020.0</td>\n",
       "    </tr>\n",
       "    <tr>\n",
       "      <th>1</th>\n",
       "      <td>Red Dead Redemption II</td>\n",
       "      <td>2018.0</td>\n",
       "      <td>Action, Adventure, Crime</td>\n",
       "      <td>9.7</td>\n",
       "      <td>36441</td>\n",
       "      <td>Missing</td>\n",
       "      <td>Amidst the decline of the Wild West at the tur...</td>\n",
       "      <td>2010.0</td>\n",
       "    </tr>\n",
       "    <tr>\n",
       "      <th>2</th>\n",
       "      <td>The Witcher 3: Wild Hunt - Blood and Wine</td>\n",
       "      <td>2016.0</td>\n",
       "      <td>Action, Adventure, Drama</td>\n",
       "      <td>9.7</td>\n",
       "      <td>7610</td>\n",
       "      <td>Konrad Tomaszkiewicz</td>\n",
       "      <td>Geralt is in the southern province of Toussain...</td>\n",
       "      <td>2010.0</td>\n",
       "    </tr>\n",
       "    <tr>\n",
       "      <th>3</th>\n",
       "      <td>The Witcher 3: Wild Hunt</td>\n",
       "      <td>2015.0</td>\n",
       "      <td>Action, Adventure, Drama</td>\n",
       "      <td>9.7</td>\n",
       "      <td>26328</td>\n",
       "      <td>Konrad Tomaszkiewicz</td>\n",
       "      <td>A monster hunter for hire embarks on an epic j...</td>\n",
       "      <td>2010.0</td>\n",
       "    </tr>\n",
       "    <tr>\n",
       "      <th>4</th>\n",
       "      <td>The Last of Us</td>\n",
       "      <td>2013.0</td>\n",
       "      <td>Action, Adventure, Drama</td>\n",
       "      <td>9.7</td>\n",
       "      <td>61103</td>\n",
       "      <td>Neil Druckmann, Bruce Straley</td>\n",
       "      <td>In a hostile, post-pandemic world, Joel and El...</td>\n",
       "      <td>2010.0</td>\n",
       "    </tr>\n",
       "    <tr>\n",
       "      <th>5</th>\n",
       "      <td>Mass Effect: Legendary Edition</td>\n",
       "      <td>2021.0</td>\n",
       "      <td>Action, Adventure, Sci-Fi</td>\n",
       "      <td>9.7</td>\n",
       "      <td>1628</td>\n",
       "      <td>Casey Hudson, Mac Walters</td>\n",
       "      <td>A compilation of the first three Mass Effect g...</td>\n",
       "      <td>2020.0</td>\n",
       "    </tr>\n",
       "    <tr>\n",
       "      <th>6</th>\n",
       "      <td>God of War</td>\n",
       "      <td>2018.0</td>\n",
       "      <td>Action, Adventure, Drama</td>\n",
       "      <td>9.6</td>\n",
       "      <td>26507</td>\n",
       "      <td>Cory Barlog</td>\n",
       "      <td>After wiping out the gods of Mount Olympus, Kr...</td>\n",
       "      <td>2010.0</td>\n",
       "    </tr>\n",
       "    <tr>\n",
       "      <th>7</th>\n",
       "      <td>Persona 5 Royal</td>\n",
       "      <td>2019.0</td>\n",
       "      <td>Action, Adventure, Fantasy</td>\n",
       "      <td>9.6</td>\n",
       "      <td>1214</td>\n",
       "      <td>Daiki Itô</td>\n",
       "      <td>A group of high school students create a vigil...</td>\n",
       "      <td>2010.0</td>\n",
       "    </tr>\n",
       "    <tr>\n",
       "      <th>8</th>\n",
       "      <td>The Legend of Zelda: Ocarina of Time</td>\n",
       "      <td>1998.0</td>\n",
       "      <td>Action, Adventure, Fantasy</td>\n",
       "      <td>9.6</td>\n",
       "      <td>9576</td>\n",
       "      <td>Eiji Aonuma, Yoichi Yamada, Yoshiaki Koizumi, ...</td>\n",
       "      <td>A young Kokiri boy discovers that his destiny ...</td>\n",
       "      <td>1990.0</td>\n",
       "    </tr>\n",
       "    <tr>\n",
       "      <th>9</th>\n",
       "      <td>Metal Gear Solid</td>\n",
       "      <td>1998.0</td>\n",
       "      <td>Action, Adventure, Drama</td>\n",
       "      <td>9.6</td>\n",
       "      <td>11809</td>\n",
       "      <td>Hideo Kojima</td>\n",
       "      <td>A crack government anti-terrorist squad takes ...</td>\n",
       "      <td>1990.0</td>\n",
       "    </tr>\n",
       "  </tbody>\n",
       "</table>\n",
       "</div>"
      ],
      "text/plain": [
       "                                       title    year  \\\n",
       "0                     The Last of Us: Part I  2022.0   \n",
       "1                     Red Dead Redemption II  2018.0   \n",
       "2  The Witcher 3: Wild Hunt - Blood and Wine  2016.0   \n",
       "3                   The Witcher 3: Wild Hunt  2015.0   \n",
       "4                             The Last of Us  2013.0   \n",
       "5             Mass Effect: Legendary Edition  2021.0   \n",
       "6                                 God of War  2018.0   \n",
       "7                            Persona 5 Royal  2019.0   \n",
       "8       The Legend of Zelda: Ocarina of Time  1998.0   \n",
       "9                           Metal Gear Solid  1998.0   \n",
       "\n",
       "                        genre  rating  votes  \\\n",
       "0    Action, Adventure, Drama     9.8    601   \n",
       "1    Action, Adventure, Crime     9.7  36441   \n",
       "2    Action, Adventure, Drama     9.7   7610   \n",
       "3    Action, Adventure, Drama     9.7  26328   \n",
       "4    Action, Adventure, Drama     9.7  61103   \n",
       "5   Action, Adventure, Sci-Fi     9.7   1628   \n",
       "6    Action, Adventure, Drama     9.6  26507   \n",
       "7  Action, Adventure, Fantasy     9.6   1214   \n",
       "8  Action, Adventure, Fantasy     9.6   9576   \n",
       "9    Action, Adventure, Drama     9.6  11809   \n",
       "\n",
       "                                           directors  \\\n",
       "0                     Matthew Gallant, Bruce Straley   \n",
       "1                                            Missing   \n",
       "2                               Konrad Tomaszkiewicz   \n",
       "3                               Konrad Tomaszkiewicz   \n",
       "4                      Neil Druckmann, Bruce Straley   \n",
       "5                          Casey Hudson, Mac Walters   \n",
       "6                                        Cory Barlog   \n",
       "7                                          Daiki Itô   \n",
       "8  Eiji Aonuma, Yoichi Yamada, Yoshiaki Koizumi, ...   \n",
       "9                                       Hideo Kojima   \n",
       "\n",
       "                                                plot  decade  \n",
       "0  Experience the emotional storytelling and unfo...  2020.0  \n",
       "1  Amidst the decline of the Wild West at the tur...  2010.0  \n",
       "2  Geralt is in the southern province of Toussain...  2010.0  \n",
       "3  A monster hunter for hire embarks on an epic j...  2010.0  \n",
       "4  In a hostile, post-pandemic world, Joel and El...  2010.0  \n",
       "5  A compilation of the first three Mass Effect g...  2020.0  \n",
       "6  After wiping out the gods of Mount Olympus, Kr...  2010.0  \n",
       "7  A group of high school students create a vigil...  2010.0  \n",
       "8  A young Kokiri boy discovers that his destiny ...  1990.0  \n",
       "9  A crack government anti-terrorist squad takes ...  1990.0  "
      ]
     },
     "execution_count": 10,
     "metadata": {},
     "output_type": "execute_result"
    }
   ],
   "source": [
    "print('10 Highest rated games')\n",
    "games.nlargest(10,'rating')"
   ]
  },
  {
   "cell_type": "markdown",
   "id": "20389ef1",
   "metadata": {
    "papermill": {
     "duration": 0.010746,
     "end_time": "2022-09-26T19:14:18.082505",
     "exception": false,
     "start_time": "2022-09-26T19:14:18.071759",
     "status": "completed"
    },
    "tags": []
   },
   "source": [
    "### Distribution of ratings\n",
    "The games ratings are skewed to the left with majority of ratings (1 to 6) falling to the left of the mean. The mean is also to the left of the median"
   ]
  },
  {
   "cell_type": "code",
   "execution_count": 11,
   "id": "7d630dc1",
   "metadata": {
    "execution": {
     "iopub.execute_input": "2022-09-26T19:14:18.106638Z",
     "iopub.status.busy": "2022-09-26T19:14:18.106196Z",
     "iopub.status.idle": "2022-09-26T19:14:18.437113Z",
     "shell.execute_reply": "2022-09-26T19:14:18.435984Z"
    },
    "papermill": {
     "duration": 0.346124,
     "end_time": "2022-09-26T19:14:18.439736",
     "exception": false,
     "start_time": "2022-09-26T19:14:18.093612",
     "status": "completed"
    },
    "tags": []
   },
   "outputs": [
    {
     "data": {
      "image/png": "[encoded data removed]",
      "text/plain": [
       "<Figure size 576x432 with 1 Axes>"
      ]
     },
     "metadata": {},
     "output_type": "display_data"
    }
   ],
   "source": [
    "# Visualize the distribution or rating\n",
    "plt.style.use('bmh')\n",
    "fig, ax = plt.subplots(figsize=(8,6))\n",
    "sns.histplot(x='rating',data=games,bins=np.arange(1,11,0.5),ax=ax,alpha=0.3)\n",
    "plt.axvline(games.rating.mean(),color='r',ls='--',label='mean')\n",
    "plt.axvline(games.rating.median(),color='k',ls='-',label='median')\n",
    "plt.title('Distribution of games ratings')\n",
    "plt.legend()\n",
    "plt.show()"
   ]
  },
  {
   "cell_type": "markdown",
   "id": "f8209dfd",
   "metadata": {
    "papermill": {
     "duration": 0.011125,
     "end_time": "2022-09-26T19:14:18.462651",
     "exception": false,
     "start_time": "2022-09-26T19:14:18.451526",
     "status": "completed"
    },
    "tags": []
   },
   "source": [
    "**Surprisingly, the lowest rated games are not produced between 1940s and 1970s as you would expect. The lowest rated game - CrazyBus - was launched in 2004 and has a rating of 1.0**"
   ]
  },
  {
   "cell_type": "code",
   "execution_count": 12,
   "id": "01ab4d59",
   "metadata": {
    "execution": {
     "iopub.execute_input": "2022-09-26T19:14:18.487457Z",
     "iopub.status.busy": "2022-09-26T19:14:18.487050Z",
     "iopub.status.idle": "2022-09-26T19:14:18.509840Z",
     "shell.execute_reply": "2022-09-26T19:14:18.508584Z"
    },
    "papermill": {
     "duration": 0.0383,
     "end_time": "2022-09-26T19:14:18.512527",
     "exception": false,
     "start_time": "2022-09-26T19:14:18.474227",
     "status": "completed"
    },
    "tags": []
   },
   "outputs": [
    {
     "name": "stdout",
     "output_type": "stream",
     "text": [
      "10 Lowest rated games\n"
     ]
    },
    {
     "data": {
      "text/html": [
       "<div>\n",
       "<style scoped>\n",
       "    .dataframe tbody tr th:only-of-type {\n",
       "        vertical-align: middle;\n",
       "    }\n",
       "\n",
       "    .dataframe tbody tr th {\n",
       "        vertical-align: top;\n",
       "    }\n",
       "\n",
       "    .dataframe thead th {\n",
       "        text-align: right;\n",
       "    }\n",
       "</style>\n",
       "<table border=\"1\" class=\"dataframe\">\n",
       "  <thead>\n",
       "    <tr style=\"text-align: right;\">\n",
       "      <th></th>\n",
       "      <th>title</th>\n",
       "      <th>year</th>\n",
       "      <th>genre</th>\n",
       "      <th>rating</th>\n",
       "      <th>votes</th>\n",
       "      <th>directors</th>\n",
       "      <th>plot</th>\n",
       "      <th>decade</th>\n",
       "    </tr>\n",
       "  </thead>\n",
       "  <tbody>\n",
       "    <tr>\n",
       "      <th>12634</th>\n",
       "      <td>CrazyBus</td>\n",
       "      <td>2004.0</td>\n",
       "      <td>Adventure, Family</td>\n",
       "      <td>1.0</td>\n",
       "      <td>126</td>\n",
       "      <td>Tom Maneiro</td>\n",
       "      <td>You get to select your bus and drive it across...</td>\n",
       "      <td>2000.0</td>\n",
       "    </tr>\n",
       "    <tr>\n",
       "      <th>12633</th>\n",
       "      <td>Animal Soccer World</td>\n",
       "      <td>2005.0</td>\n",
       "      <td>Animation, Sport</td>\n",
       "      <td>1.2</td>\n",
       "      <td>125</td>\n",
       "      <td>Roswitha Haas</td>\n",
       "      <td>Everybody is busy with the preparations for th...</td>\n",
       "      <td>2000.0</td>\n",
       "    </tr>\n",
       "    <tr>\n",
       "      <th>12631</th>\n",
       "      <td>Action 52</td>\n",
       "      <td>1991.0</td>\n",
       "      <td>Action, Family, Fantasy</td>\n",
       "      <td>1.3</td>\n",
       "      <td>135</td>\n",
       "      <td>Raul Gomila, Vince Perri</td>\n",
       "      <td>Play the action at your fingertips with 52 gam...</td>\n",
       "      <td>1990.0</td>\n",
       "    </tr>\n",
       "    <tr>\n",
       "      <th>12632</th>\n",
       "      <td>Plumbers Don't Wear Ties</td>\n",
       "      <td>1994.0</td>\n",
       "      <td>Comedy, Romance</td>\n",
       "      <td>1.3</td>\n",
       "      <td>338</td>\n",
       "      <td>Michael Anderson</td>\n",
       "      <td>John, an unattached plumber, meets and falls i...</td>\n",
       "      <td>1990.0</td>\n",
       "    </tr>\n",
       "    <tr>\n",
       "      <th>12629</th>\n",
       "      <td>Ride to Hell: Retribution</td>\n",
       "      <td>2013.0</td>\n",
       "      <td>Action, Crime, Thriller</td>\n",
       "      <td>1.4</td>\n",
       "      <td>307</td>\n",
       "      <td>Missing</td>\n",
       "      <td>A Vietnam veteran, who has recently returned h...</td>\n",
       "      <td>2010.0</td>\n",
       "    </tr>\n",
       "    <tr>\n",
       "      <th>12630</th>\n",
       "      <td>Superman</td>\n",
       "      <td>1999.0</td>\n",
       "      <td>Action, Adventure, Family</td>\n",
       "      <td>1.4</td>\n",
       "      <td>646</td>\n",
       "      <td>Missing</td>\n",
       "      <td>The first 3D Superman game. Your friends Lois ...</td>\n",
       "      <td>1990.0</td>\n",
       "    </tr>\n",
       "    <tr>\n",
       "      <th>12624</th>\n",
       "      <td>Hunt Down the Freeman</td>\n",
       "      <td>2018.0</td>\n",
       "      <td>Action, Adventure, Sci-Fi</td>\n",
       "      <td>1.5</td>\n",
       "      <td>229</td>\n",
       "      <td>Berkan Denizyaran</td>\n",
       "      <td>This one guy tickle another dude's balls for m...</td>\n",
       "      <td>2010.0</td>\n",
       "    </tr>\n",
       "    <tr>\n",
       "      <th>12625</th>\n",
       "      <td>E.T. Phone Home!</td>\n",
       "      <td>1983.0</td>\n",
       "      <td>Adventure, Family, Sci-Fi</td>\n",
       "      <td>1.5</td>\n",
       "      <td>28</td>\n",
       "      <td>Missing</td>\n",
       "      <td>The infamous Atari video game from the blockbu...</td>\n",
       "      <td>1980.0</td>\n",
       "    </tr>\n",
       "    <tr>\n",
       "      <th>12626</th>\n",
       "      <td>Jenga World Tour</td>\n",
       "      <td>2007.0</td>\n",
       "      <td>Action</td>\n",
       "      <td>1.5</td>\n",
       "      <td>17</td>\n",
       "      <td>Missing</td>\n",
       "      <td>Video game based on the Jenga puzzle game, tak...</td>\n",
       "      <td>2000.0</td>\n",
       "    </tr>\n",
       "    <tr>\n",
       "      <th>12627</th>\n",
       "      <td>Super Noah's Ark 3D</td>\n",
       "      <td>1994.0</td>\n",
       "      <td>Action</td>\n",
       "      <td>1.5</td>\n",
       "      <td>42</td>\n",
       "      <td>Missing</td>\n",
       "      <td>Noah has to feed the animals in his Ark.</td>\n",
       "      <td>1990.0</td>\n",
       "    </tr>\n",
       "  </tbody>\n",
       "</table>\n",
       "</div>"
      ],
      "text/plain": [
       "                           title    year                      genre  rating  \\\n",
       "12634                   CrazyBus  2004.0          Adventure, Family     1.0   \n",
       "12633        Animal Soccer World  2005.0           Animation, Sport     1.2   \n",
       "12631                  Action 52  1991.0    Action, Family, Fantasy     1.3   \n",
       "12632   Plumbers Don't Wear Ties  1994.0            Comedy, Romance     1.3   \n",
       "12629  Ride to Hell: Retribution  2013.0    Action, Crime, Thriller     1.4   \n",
       "12630                   Superman  1999.0  Action, Adventure, Family     1.4   \n",
       "12624      Hunt Down the Freeman  2018.0  Action, Adventure, Sci-Fi     1.5   \n",
       "12625           E.T. Phone Home!  1983.0  Adventure, Family, Sci-Fi     1.5   \n",
       "12626           Jenga World Tour  2007.0                     Action     1.5   \n",
       "12627        Super Noah's Ark 3D  1994.0                     Action     1.5   \n",
       "\n",
       "       votes                 directors  \\\n",
       "12634    126               Tom Maneiro   \n",
       "12633    125             Roswitha Haas   \n",
       "12631    135  Raul Gomila, Vince Perri   \n",
       "12632    338          Michael Anderson   \n",
       "12629    307                   Missing   \n",
       "12630    646                   Missing   \n",
       "12624    229         Berkan Denizyaran   \n",
       "12625     28                   Missing   \n",
       "12626     17                   Missing   \n",
       "12627     42                   Missing   \n",
       "\n",
       "                                                    plot  decade  \n",
       "12634  You get to select your bus and drive it across...  2000.0  \n",
       "12633  Everybody is busy with the preparations for th...  2000.0  \n",
       "12631  Play the action at your fingertips with 52 gam...  1990.0  \n",
       "12632  John, an unattached plumber, meets and falls i...  1990.0  \n",
       "12629  A Vietnam veteran, who has recently returned h...  2010.0  \n",
       "12630  The first 3D Superman game. Your friends Lois ...  1990.0  \n",
       "12624  This one guy tickle another dude's balls for m...  2010.0  \n",
       "12625  The infamous Atari video game from the blockbu...  1980.0  \n",
       "12626  Video game based on the Jenga puzzle game, tak...  2000.0  \n",
       "12627           Noah has to feed the animals in his Ark.  1990.0  "
      ]
     },
     "execution_count": 12,
     "metadata": {},
     "output_type": "execute_result"
    }
   ],
   "source": [
    "print('10 Lowest rated games')\n",
    "games.nsmallest(10,'rating')"
   ]
  },
  {
   "cell_type": "markdown",
   "id": "c41219a4",
   "metadata": {
    "papermill": {
     "duration": 0.01202,
     "end_time": "2022-09-26T19:14:18.536362",
     "exception": false,
     "start_time": "2022-09-26T19:14:18.524342",
     "status": "completed"
    },
    "tags": []
   },
   "source": [
    "**In the 100 lowest rated games, almost half (41) are produced between 2010 and 2019 while 20 are produced between 2000 and 2009 and another 20 between 1990 and 1999. The 1970s only account for 4 games. Surprisingly, the 2020s decade has already produced 6 lowly rated games.**"
   ]
  },
  {
   "cell_type": "code",
   "execution_count": 13,
   "id": "791ff1a8",
   "metadata": {
    "execution": {
     "iopub.execute_input": "2022-09-26T19:14:18.562789Z",
     "iopub.status.busy": "2022-09-26T19:14:18.562097Z",
     "iopub.status.idle": "2022-09-26T19:14:18.772856Z",
     "shell.execute_reply": "2022-09-26T19:14:18.771484Z"
    },
    "papermill": {
     "duration": 0.227819,
     "end_time": "2022-09-26T19:14:18.776152",
     "exception": false,
     "start_time": "2022-09-26T19:14:18.548333",
     "status": "completed"
    },
    "tags": []
   },
   "outputs": [
    {
     "data": {
      "image/png": "[encoded data removed]",
      "text/plain": [
       "<Figure size 576x432 with 1 Axes>"
      ]
     },
     "metadata": {},
     "output_type": "display_data"
    }
   ],
   "source": [
    "# Which decade produced majority of the lowest 100 rated games\n",
    "lowest_rated_100 = games.loc[games.rating.nsmallest(100).index,['decade']].value_counts().reset_index()\n",
    "lowest_rated_100['decade'] = lowest_rated_100.decade.astype('int')\n",
    "\n",
    "# Visualize\n",
    "sns.set_palette('Spectral')\n",
    "fig, ax = plt.subplots(figsize=(8,6))\n",
    "plt.pie(lowest_rated_100[0],labels=lowest_rated_100.decade,shadow=True,autopct='%1.0f%%',\n",
    "        explode=[0.1,0.1,0.1,0.1,0.1,0.1])\n",
    "ax.set(title='Percentage of 100 lowest rated games per decade')\n",
    "plt.show()"
   ]
  },
  {
   "cell_type": "markdown",
   "id": "97808bce",
   "metadata": {
    "papermill": {
     "duration": 0.020626,
     "end_time": "2022-09-26T19:14:18.817856",
     "exception": false,
     "start_time": "2022-09-26T19:14:18.797230",
     "status": "completed"
    },
    "tags": []
   },
   "source": [
    "**Even with the advent of technology, the 2020s managed to produce games with very low ratings - as low as 1.8**"
   ]
  },
  {
   "cell_type": "code",
   "execution_count": 14,
   "id": "faf28b0a",
   "metadata": {
    "execution": {
     "iopub.execute_input": "2022-09-26T19:14:18.847943Z",
     "iopub.status.busy": "2022-09-26T19:14:18.847263Z",
     "iopub.status.idle": "2022-09-26T19:14:18.865348Z",
     "shell.execute_reply": "2022-09-26T19:14:18.864435Z"
    },
    "papermill": {
     "duration": 0.034398,
     "end_time": "2022-09-26T19:14:18.867502",
     "exception": false,
     "start_time": "2022-09-26T19:14:18.833104",
     "status": "completed"
    },
    "tags": []
   },
   "outputs": [
    {
     "data": {
      "text/html": [
       "<div>\n",
       "<style scoped>\n",
       "    .dataframe tbody tr th:only-of-type {\n",
       "        vertical-align: middle;\n",
       "    }\n",
       "\n",
       "    .dataframe tbody tr th {\n",
       "        vertical-align: top;\n",
       "    }\n",
       "\n",
       "    .dataframe thead th {\n",
       "        text-align: right;\n",
       "    }\n",
       "</style>\n",
       "<table border=\"1\" class=\"dataframe\">\n",
       "  <thead>\n",
       "    <tr style=\"text-align: right;\">\n",
       "      <th></th>\n",
       "      <th>title</th>\n",
       "      <th>year</th>\n",
       "      <th>rating</th>\n",
       "      <th>votes</th>\n",
       "    </tr>\n",
       "  </thead>\n",
       "  <tbody>\n",
       "    <tr>\n",
       "      <th>12611</th>\n",
       "      <td>Taishogun: The Rise of Emperor</td>\n",
       "      <td>2021.0</td>\n",
       "      <td>1.8</td>\n",
       "      <td>21</td>\n",
       "    </tr>\n",
       "    <tr>\n",
       "      <th>12612</th>\n",
       "      <td>Shadow the Ronin</td>\n",
       "      <td>2020.0</td>\n",
       "      <td>1.8</td>\n",
       "      <td>37</td>\n",
       "    </tr>\n",
       "    <tr>\n",
       "      <th>12592</th>\n",
       "      <td>Chickens on the Road</td>\n",
       "      <td>2020.0</td>\n",
       "      <td>2.0</td>\n",
       "      <td>17</td>\n",
       "    </tr>\n",
       "    <tr>\n",
       "      <th>12577</th>\n",
       "      <td>Fast and Furious Crossroads</td>\n",
       "      <td>2020.0</td>\n",
       "      <td>2.2</td>\n",
       "      <td>368</td>\n",
       "    </tr>\n",
       "    <tr>\n",
       "      <th>12552</th>\n",
       "      <td>eFootball 2022</td>\n",
       "      <td>2021.0</td>\n",
       "      <td>2.4</td>\n",
       "      <td>216</td>\n",
       "    </tr>\n",
       "    <tr>\n",
       "      <th>12553</th>\n",
       "      <td>Road Bustle</td>\n",
       "      <td>2020.0</td>\n",
       "      <td>2.4</td>\n",
       "      <td>25</td>\n",
       "    </tr>\n",
       "  </tbody>\n",
       "</table>\n",
       "</div>"
      ],
      "text/plain": [
       "                                title    year  rating  votes\n",
       "12611  Taishogun: The Rise of Emperor  2021.0     1.8     21\n",
       "12612                Shadow the Ronin  2020.0     1.8     37\n",
       "12592            Chickens on the Road  2020.0     2.0     17\n",
       "12577     Fast and Furious Crossroads  2020.0     2.2    368\n",
       "12552                  eFootball 2022  2021.0     2.4    216\n",
       "12553                     Road Bustle  2020.0     2.4     25"
      ]
     },
     "metadata": {},
     "output_type": "display_data"
    }
   ],
   "source": [
    "# Get the least rated games\n",
    "lowest_rated_games = games.loc[games.rating.nsmallest(100).index,['title','year','rating','votes','decade']]\n",
    "\n",
    "# Get the lowest rated games in 2020s\n",
    "lowest_rated_games_2020s = lowest_rated_games.loc[lowest_rated_games.decade==2020,['title','year','rating','votes']]\n",
    "display(lowest_rated_games_2020s)"
   ]
  },
  {
   "cell_type": "markdown",
   "id": "8e89d1ab",
   "metadata": {
    "papermill": {
     "duration": 0.013138,
     "end_time": "2022-09-26T19:14:18.893692",
     "exception": false,
     "start_time": "2022-09-26T19:14:18.880554",
     "status": "completed"
    },
    "tags": []
   },
   "source": [
    "### Ranking\n",
    "\n",
    "Ranking of the video games is reflected by a balance between number of votes and rating. \n",
    "\n",
    "While the formula is not explicitly given by imdb, a number of websites including stack overflow have confirmed it's reliability. You are free to try other reliable formulae for this ranking. The formula ratings and votes to compute the weighted rating as follows:\n",
    "\n",
    "```Weighted rating (WR) = (v/(v + m)) * R + ( m / (v + m)) * C```\n",
    "\n",
    "<p>where:</p>\n",
    "\n",
    "* R = average for the movie (mean) = (Rating)\n",
    "* v = number of votes for the movie = (votes)\n",
    "* m = minimum votes required to be listed in the Top 50 (currently 1000)\n",
    "* C = the mean vote across the whole report (currently 6.95)\n",
    "\n",
    "**As shown, the weighed rating uses both the ratings and number of votes to generate the ranking**"
   ]
  },
  {
   "cell_type": "code",
   "execution_count": 15,
   "id": "57948e7b",
   "metadata": {
    "execution": {
     "iopub.execute_input": "2022-09-26T19:14:18.921664Z",
     "iopub.status.busy": "2022-09-26T19:14:18.921286Z",
     "iopub.status.idle": "2022-09-26T19:14:18.958421Z",
     "shell.execute_reply": "2022-09-26T19:14:18.957550Z"
    },
    "papermill": {
     "duration": 0.054027,
     "end_time": "2022-09-26T19:14:18.960548",
     "exception": false,
     "start_time": "2022-09-26T19:14:18.906521",
     "status": "completed"
    },
    "tags": []
   },
   "outputs": [
    {
     "data": {
      "text/html": [
       "<div>\n",
       "<style scoped>\n",
       "    .dataframe tbody tr th:only-of-type {\n",
       "        vertical-align: middle;\n",
       "    }\n",
       "\n",
       "    .dataframe tbody tr th {\n",
       "        vertical-align: top;\n",
       "    }\n",
       "\n",
       "    .dataframe thead th {\n",
       "        text-align: right;\n",
       "    }\n",
       "</style>\n",
       "<table border=\"1\" class=\"dataframe\">\n",
       "  <thead>\n",
       "    <tr style=\"text-align: right;\">\n",
       "      <th></th>\n",
       "      <th>title</th>\n",
       "      <th>rating</th>\n",
       "      <th>votes</th>\n",
       "      <th>weighted_rating</th>\n",
       "    </tr>\n",
       "  </thead>\n",
       "  <tbody>\n",
       "    <tr>\n",
       "      <th>0</th>\n",
       "      <td>The Last of Us</td>\n",
       "      <td>9.7</td>\n",
       "      <td>61103</td>\n",
       "      <td>9.655640</td>\n",
       "    </tr>\n",
       "    <tr>\n",
       "      <th>1</th>\n",
       "      <td>Red Dead Redemption II</td>\n",
       "      <td>9.7</td>\n",
       "      <td>36441</td>\n",
       "      <td>9.626420</td>\n",
       "    </tr>\n",
       "    <tr>\n",
       "      <th>2</th>\n",
       "      <td>The Witcher 3: Wild Hunt</td>\n",
       "      <td>9.7</td>\n",
       "      <td>26328</td>\n",
       "      <td>9.599191</td>\n",
       "    </tr>\n",
       "    <tr>\n",
       "      <th>3</th>\n",
       "      <td>God of War</td>\n",
       "      <td>9.6</td>\n",
       "      <td>26507</td>\n",
       "      <td>9.503483</td>\n",
       "    </tr>\n",
       "    <tr>\n",
       "      <th>4</th>\n",
       "      <td>Grand Theft Auto V</td>\n",
       "      <td>9.5</td>\n",
       "      <td>60381</td>\n",
       "      <td>9.458376</td>\n",
       "    </tr>\n",
       "    <tr>\n",
       "      <th>5</th>\n",
       "      <td>Uncharted 4: A Thief's End</td>\n",
       "      <td>9.5</td>\n",
       "      <td>28985</td>\n",
       "      <td>9.414794</td>\n",
       "    </tr>\n",
       "    <tr>\n",
       "      <th>6</th>\n",
       "      <td>Red Dead Redemption</td>\n",
       "      <td>9.5</td>\n",
       "      <td>26767</td>\n",
       "      <td>9.407988</td>\n",
       "    </tr>\n",
       "    <tr>\n",
       "      <th>7</th>\n",
       "      <td>Metal Gear Solid</td>\n",
       "      <td>9.6</td>\n",
       "      <td>11809</td>\n",
       "      <td>9.392732</td>\n",
       "    </tr>\n",
       "    <tr>\n",
       "      <th>8</th>\n",
       "      <td>The Witcher 3: Wild Hunt - Blood and Wine</td>\n",
       "      <td>9.7</td>\n",
       "      <td>7610</td>\n",
       "      <td>9.380035</td>\n",
       "    </tr>\n",
       "    <tr>\n",
       "      <th>9</th>\n",
       "      <td>Mass Effect 2</td>\n",
       "      <td>9.5</td>\n",
       "      <td>19961</td>\n",
       "      <td>9.378112</td>\n",
       "    </tr>\n",
       "    <tr>\n",
       "      <th>10</th>\n",
       "      <td>The Legend of Zelda: Ocarina of Time</td>\n",
       "      <td>9.6</td>\n",
       "      <td>9576</td>\n",
       "      <td>9.348970</td>\n",
       "    </tr>\n",
       "    <tr>\n",
       "      <th>11</th>\n",
       "      <td>Grand Theft Auto: San Andreas</td>\n",
       "      <td>9.4</td>\n",
       "      <td>39797</td>\n",
       "      <td>9.339827</td>\n",
       "    </tr>\n",
       "    <tr>\n",
       "      <th>12</th>\n",
       "      <td>Batman: Arkham City</td>\n",
       "      <td>9.4</td>\n",
       "      <td>30935</td>\n",
       "      <td>9.323128</td>\n",
       "    </tr>\n",
       "    <tr>\n",
       "      <th>13</th>\n",
       "      <td>The Elder Scrolls V: Skyrim</td>\n",
       "      <td>9.4</td>\n",
       "      <td>29526</td>\n",
       "      <td>9.319580</td>\n",
       "    </tr>\n",
       "    <tr>\n",
       "      <th>14</th>\n",
       "      <td>Uncharted 2: Among Thieves</td>\n",
       "      <td>9.4</td>\n",
       "      <td>25191</td>\n",
       "      <td>9.306270</td>\n",
       "    </tr>\n",
       "    <tr>\n",
       "      <th>15</th>\n",
       "      <td>Metal Gear Solid 3: Snake Eater</td>\n",
       "      <td>9.5</td>\n",
       "      <td>10477</td>\n",
       "      <td>9.277390</td>\n",
       "    </tr>\n",
       "    <tr>\n",
       "      <th>16</th>\n",
       "      <td>Final Fantasy VII</td>\n",
       "      <td>9.5</td>\n",
       "      <td>10452</td>\n",
       "      <td>9.276904</td>\n",
       "    </tr>\n",
       "    <tr>\n",
       "      <th>17</th>\n",
       "      <td>Half-Life 2</td>\n",
       "      <td>9.4</td>\n",
       "      <td>16160</td>\n",
       "      <td>9.256941</td>\n",
       "    </tr>\n",
       "    <tr>\n",
       "      <th>18</th>\n",
       "      <td>Portal 2</td>\n",
       "      <td>9.4</td>\n",
       "      <td>15687</td>\n",
       "      <td>9.252886</td>\n",
       "    </tr>\n",
       "    <tr>\n",
       "      <th>19</th>\n",
       "      <td>Star Wars: Knights of the Old Republic</td>\n",
       "      <td>9.5</td>\n",
       "      <td>8633</td>\n",
       "      <td>9.234777</td>\n",
       "    </tr>\n",
       "    <tr>\n",
       "      <th>20</th>\n",
       "      <td>The Legend of Zelda: Breath of the Wild</td>\n",
       "      <td>9.5</td>\n",
       "      <td>7253</td>\n",
       "      <td>9.190428</td>\n",
       "    </tr>\n",
       "    <tr>\n",
       "      <th>21</th>\n",
       "      <td>Metal Gear Solid 4: Guns of the Patriots</td>\n",
       "      <td>9.4</td>\n",
       "      <td>10635</td>\n",
       "      <td>9.189008</td>\n",
       "    </tr>\n",
       "    <tr>\n",
       "      <th>22</th>\n",
       "      <td>The Witcher 3: Wild Hunt - Hearts of Stone</td>\n",
       "      <td>9.5</td>\n",
       "      <td>6302</td>\n",
       "      <td>9.150110</td>\n",
       "    </tr>\n",
       "    <tr>\n",
       "      <th>23</th>\n",
       "      <td>Batman: Arkham Asylum</td>\n",
       "      <td>9.2</td>\n",
       "      <td>27733</td>\n",
       "      <td>9.121522</td>\n",
       "    </tr>\n",
       "    <tr>\n",
       "      <th>24</th>\n",
       "      <td>Grand Theft Auto: Vice City</td>\n",
       "      <td>9.2</td>\n",
       "      <td>26495</td>\n",
       "      <td>9.117989</td>\n",
       "    </tr>\n",
       "    <tr>\n",
       "      <th>25</th>\n",
       "      <td>Spider-Man</td>\n",
       "      <td>9.2</td>\n",
       "      <td>21197</td>\n",
       "      <td>9.098414</td>\n",
       "    </tr>\n",
       "    <tr>\n",
       "      <th>26</th>\n",
       "      <td>Silent Hill 2</td>\n",
       "      <td>9.4</td>\n",
       "      <td>6645</td>\n",
       "      <td>9.078889</td>\n",
       "    </tr>\n",
       "    <tr>\n",
       "      <th>27</th>\n",
       "      <td>Detroit: Become Human</td>\n",
       "      <td>9.2</td>\n",
       "      <td>17135</td>\n",
       "      <td>9.075661</td>\n",
       "    </tr>\n",
       "    <tr>\n",
       "      <th>28</th>\n",
       "      <td>Max Payne</td>\n",
       "      <td>9.2</td>\n",
       "      <td>15085</td>\n",
       "      <td>9.059814</td>\n",
       "    </tr>\n",
       "    <tr>\n",
       "      <th>29</th>\n",
       "      <td>Ghost of Tsushima</td>\n",
       "      <td>9.3</td>\n",
       "      <td>8707</td>\n",
       "      <td>9.057402</td>\n",
       "    </tr>\n",
       "    <tr>\n",
       "      <th>30</th>\n",
       "      <td>Resident Evil 4</td>\n",
       "      <td>9.2</td>\n",
       "      <td>13201</td>\n",
       "      <td>9.041216</td>\n",
       "    </tr>\n",
       "    <tr>\n",
       "      <th>31</th>\n",
       "      <td>The Walking Dead</td>\n",
       "      <td>9.2</td>\n",
       "      <td>12776</td>\n",
       "      <td>9.036317</td>\n",
       "    </tr>\n",
       "    <tr>\n",
       "      <th>32</th>\n",
       "      <td>Elden Ring</td>\n",
       "      <td>9.5</td>\n",
       "      <td>4378</td>\n",
       "      <td>9.024936</td>\n",
       "    </tr>\n",
       "    <tr>\n",
       "      <th>33</th>\n",
       "      <td>Uncharted: The Nathan Drake Collection</td>\n",
       "      <td>9.4</td>\n",
       "      <td>5436</td>\n",
       "      <td>9.018568</td>\n",
       "    </tr>\n",
       "    <tr>\n",
       "      <th>34</th>\n",
       "      <td>Kingdom Hearts II</td>\n",
       "      <td>9.3</td>\n",
       "      <td>7177</td>\n",
       "      <td>9.012010</td>\n",
       "    </tr>\n",
       "    <tr>\n",
       "      <th>35</th>\n",
       "      <td>Assassin's Creed II</td>\n",
       "      <td>9.1</td>\n",
       "      <td>23202</td>\n",
       "      <td>9.010962</td>\n",
       "    </tr>\n",
       "    <tr>\n",
       "      <th>36</th>\n",
       "      <td>Half-Life</td>\n",
       "      <td>9.2</td>\n",
       "      <td>10211</td>\n",
       "      <td>8.998868</td>\n",
       "    </tr>\n",
       "    <tr>\n",
       "      <th>37</th>\n",
       "      <td>BioShock Infinite</td>\n",
       "      <td>9.1</td>\n",
       "      <td>20240</td>\n",
       "      <td>8.998545</td>\n",
       "    </tr>\n",
       "    <tr>\n",
       "      <th>38</th>\n",
       "      <td>BioShock</td>\n",
       "      <td>9.1</td>\n",
       "      <td>19831</td>\n",
       "      <td>8.996553</td>\n",
       "    </tr>\n",
       "    <tr>\n",
       "      <th>39</th>\n",
       "      <td>Fallout 3</td>\n",
       "      <td>9.1</td>\n",
       "      <td>18944</td>\n",
       "      <td>8.991953</td>\n",
       "    </tr>\n",
       "    <tr>\n",
       "      <th>40</th>\n",
       "      <td>Mass Effect</td>\n",
       "      <td>9.1</td>\n",
       "      <td>18211</td>\n",
       "      <td>8.987830</td>\n",
       "    </tr>\n",
       "    <tr>\n",
       "      <th>41</th>\n",
       "      <td>God of War II</td>\n",
       "      <td>9.2</td>\n",
       "      <td>9156</td>\n",
       "      <td>8.977974</td>\n",
       "    </tr>\n",
       "    <tr>\n",
       "      <th>42</th>\n",
       "      <td>Mass Effect 3</td>\n",
       "      <td>9.1</td>\n",
       "      <td>15609</td>\n",
       "      <td>8.970257</td>\n",
       "    </tr>\n",
       "    <tr>\n",
       "      <th>43</th>\n",
       "      <td>Portal</td>\n",
       "      <td>9.1</td>\n",
       "      <td>12829</td>\n",
       "      <td>8.944176</td>\n",
       "    </tr>\n",
       "    <tr>\n",
       "      <th>44</th>\n",
       "      <td>Kingdom Hearts</td>\n",
       "      <td>9.2</td>\n",
       "      <td>7362</td>\n",
       "      <td>8.930340</td>\n",
       "    </tr>\n",
       "    <tr>\n",
       "      <th>45</th>\n",
       "      <td>Max Payne 2: The Fall of Max Payne</td>\n",
       "      <td>9.1</td>\n",
       "      <td>10741</td>\n",
       "      <td>8.916464</td>\n",
       "    </tr>\n",
       "    <tr>\n",
       "      <th>46</th>\n",
       "      <td>Call of Duty 4: Modern Warfare</td>\n",
       "      <td>9.0</td>\n",
       "      <td>22571</td>\n",
       "      <td>8.912821</td>\n",
       "    </tr>\n",
       "    <tr>\n",
       "      <th>47</th>\n",
       "      <td>God of War III</td>\n",
       "      <td>9.1</td>\n",
       "      <td>10421</td>\n",
       "      <td>8.911322</td>\n",
       "    </tr>\n",
       "    <tr>\n",
       "      <th>48</th>\n",
       "      <td>Uncharted 3: Drake's Deception</td>\n",
       "      <td>9.0</td>\n",
       "      <td>22091</td>\n",
       "      <td>8.911009</td>\n",
       "    </tr>\n",
       "    <tr>\n",
       "      <th>49</th>\n",
       "      <td>God of War</td>\n",
       "      <td>9.1</td>\n",
       "      <td>10200</td>\n",
       "      <td>8.907599</td>\n",
       "    </tr>\n",
       "  </tbody>\n",
       "</table>\n",
       "</div>"
      ],
      "text/plain": [
       "                                         title  rating  votes  weighted_rating\n",
       "0                               The Last of Us     9.7  61103         9.655640\n",
       "1                       Red Dead Redemption II     9.7  36441         9.626420\n",
       "2                     The Witcher 3: Wild Hunt     9.7  26328         9.599191\n",
       "3                                   God of War     9.6  26507         9.503483\n",
       "4                           Grand Theft Auto V     9.5  60381         9.458376\n",
       "5                   Uncharted 4: A Thief's End     9.5  28985         9.414794\n",
       "6                          Red Dead Redemption     9.5  26767         9.407988\n",
       "7                             Metal Gear Solid     9.6  11809         9.392732\n",
       "8    The Witcher 3: Wild Hunt - Blood and Wine     9.7   7610         9.380035\n",
       "9                                Mass Effect 2     9.5  19961         9.378112\n",
       "10        The Legend of Zelda: Ocarina of Time     9.6   9576         9.348970\n",
       "11               Grand Theft Auto: San Andreas     9.4  39797         9.339827\n",
       "12                         Batman: Arkham City     9.4  30935         9.323128\n",
       "13                 The Elder Scrolls V: Skyrim     9.4  29526         9.319580\n",
       "14                  Uncharted 2: Among Thieves     9.4  25191         9.306270\n",
       "15             Metal Gear Solid 3: Snake Eater     9.5  10477         9.277390\n",
       "16                           Final Fantasy VII     9.5  10452         9.276904\n",
       "17                                 Half-Life 2     9.4  16160         9.256941\n",
       "18                                    Portal 2     9.4  15687         9.252886\n",
       "19      Star Wars: Knights of the Old Republic     9.5   8633         9.234777\n",
       "20     The Legend of Zelda: Breath of the Wild     9.5   7253         9.190428\n",
       "21    Metal Gear Solid 4: Guns of the Patriots     9.4  10635         9.189008\n",
       "22  The Witcher 3: Wild Hunt - Hearts of Stone     9.5   6302         9.150110\n",
       "23                       Batman: Arkham Asylum     9.2  27733         9.121522\n",
       "24                 Grand Theft Auto: Vice City     9.2  26495         9.117989\n",
       "25                                  Spider-Man     9.2  21197         9.098414\n",
       "26                               Silent Hill 2     9.4   6645         9.078889\n",
       "27                       Detroit: Become Human     9.2  17135         9.075661\n",
       "28                                   Max Payne     9.2  15085         9.059814\n",
       "29                           Ghost of Tsushima     9.3   8707         9.057402\n",
       "30                             Resident Evil 4     9.2  13201         9.041216\n",
       "31                            The Walking Dead     9.2  12776         9.036317\n",
       "32                                  Elden Ring     9.5   4378         9.024936\n",
       "33      Uncharted: The Nathan Drake Collection     9.4   5436         9.018568\n",
       "34                           Kingdom Hearts II     9.3   7177         9.012010\n",
       "35                         Assassin's Creed II     9.1  23202         9.010962\n",
       "36                                   Half-Life     9.2  10211         8.998868\n",
       "37                           BioShock Infinite     9.1  20240         8.998545\n",
       "38                                    BioShock     9.1  19831         8.996553\n",
       "39                                   Fallout 3     9.1  18944         8.991953\n",
       "40                                 Mass Effect     9.1  18211         8.987830\n",
       "41                               God of War II     9.2   9156         8.977974\n",
       "42                               Mass Effect 3     9.1  15609         8.970257\n",
       "43                                      Portal     9.1  12829         8.944176\n",
       "44                              Kingdom Hearts     9.2   7362         8.930340\n",
       "45          Max Payne 2: The Fall of Max Payne     9.1  10741         8.916464\n",
       "46              Call of Duty 4: Modern Warfare     9.0  22571         8.912821\n",
       "47                              God of War III     9.1  10421         8.911322\n",
       "48              Uncharted 3: Drake's Deception     9.0  22091         8.911009\n",
       "49                                  God of War     9.1  10200         8.907599"
      ]
     },
     "metadata": {},
     "output_type": "display_data"
    },
    {
     "data": {
      "text/plain": [
       "6.945104867431738"
      ]
     },
     "execution_count": 15,
     "metadata": {},
     "output_type": "execute_result"
    }
   ],
   "source": [
    "v = games.votes\n",
    "m = 1000\n",
    "R = games.rating\n",
    "C = games.rating.mean()\n",
    "\n",
    "# Create the weighted rating column\n",
    "games['weighted_rating'] = ((v/(v + m)) * R + ( m / (v + m)) * C)\n",
    "\n",
    "# sorting by the weighted rating in descending order\n",
    "games_ranking = games.sort_values('weighted_rating',ascending=False).reset_index().drop('index',axis=1)\n",
    "\n",
    "# Show top 50 results \n",
    "display(games_ranking[['title','rating','votes','weighted_rating']].nlargest(50,'weighted_rating'))\n",
    "C"
   ]
  },
  {
   "cell_type": "markdown",
   "id": "b355e501",
   "metadata": {
    "papermill": {
     "duration": 0.012974,
     "end_time": "2022-09-26T19:14:18.987259",
     "exception": false,
     "start_time": "2022-09-26T19:14:18.974285",
     "status": "completed"
    },
    "tags": []
   },
   "source": [
    "### Relationship between variables\n",
    "**Has the average rating of video games changed or remained constant over the years?**\n",
    "\n",
    "There seems to be a positive correlation between the year and average rating of the video games."
   ]
  },
  {
   "cell_type": "code",
   "execution_count": 16,
   "id": "9882cbf2",
   "metadata": {
    "execution": {
     "iopub.execute_input": "2022-09-26T19:14:19.016026Z",
     "iopub.status.busy": "2022-09-26T19:14:19.015333Z",
     "iopub.status.idle": "2022-09-26T19:14:19.329883Z",
     "shell.execute_reply": "2022-09-26T19:14:19.328949Z"
    },
    "papermill": {
     "duration": 0.331446,
     "end_time": "2022-09-26T19:14:19.332072",
     "exception": false,
     "start_time": "2022-09-26T19:14:19.000626",
     "status": "completed"
    },
    "tags": []
   },
   "outputs": [
    {
     "data": {
      "image/png": "[encoded data removed]",
      "text/plain": [
       "<Figure size 720x576 with 1 Axes>"
      ]
     },
     "metadata": {},
     "output_type": "display_data"
    }
   ],
   "source": [
    "fig, ax = plt.subplots(figsize=(10,8))\n",
    "sns.regplot(x='year',y='rating',data=games,color='brown',line_kws={'color':'black'},ci=None,scatter_kws={'marker':'s','alpha':0.9})\n",
    "ax.set(title='Relationship between year of launch and rating',xlabel='Year',ylabel='Rating')\n",
    "plt.show()"
   ]
  },
  {
   "cell_type": "markdown",
   "id": "48d2edf2",
   "metadata": {
    "papermill": {
     "duration": 0.014546,
     "end_time": "2022-09-26T19:14:19.361392",
     "exception": false,
     "start_time": "2022-09-26T19:14:19.346846",
     "status": "completed"
    },
    "tags": []
   },
   "source": [
    "**There is a non-linear relationship between rating and number of votes**"
   ]
  },
  {
   "cell_type": "code",
   "execution_count": 17,
   "id": "dabab888",
   "metadata": {
    "execution": {
     "iopub.execute_input": "2022-09-26T19:14:19.392645Z",
     "iopub.status.busy": "2022-09-26T19:14:19.391605Z",
     "iopub.status.idle": "2022-09-26T19:14:19.690254Z",
     "shell.execute_reply": "2022-09-26T19:14:19.689376Z"
    },
    "papermill": {
     "duration": 0.316831,
     "end_time": "2022-09-26T19:14:19.692639",
     "exception": false,
     "start_time": "2022-09-26T19:14:19.375808",
     "status": "completed"
    },
    "tags": []
   },
   "outputs": [
    {
     "data": {
      "image/png": "[encoded data removed]",
      "text/plain": [
       "<Figure size 1008x432 with 1 Axes>"
      ]
     },
     "metadata": {},
     "output_type": "display_data"
    }
   ],
   "source": [
    "# Relationship between the number of votes and rating\n",
    "fig, ax = plt.subplots(figsize=(14,6),)\n",
    "sns.scatterplot(x='votes',y='rating',data=games,color='red',alpha=0.5)\n",
    "ax.set(xlim = [0,10000],ylim=[0,10], title='Relationship between number of votes and rating of video games')\n",
    "plt.show()"
   ]
  },
  {
   "cell_type": "markdown",
   "id": "3b88d47e",
   "metadata": {
    "execution": {
     "iopub.execute_input": "2022-09-26T04:07:09.105514Z",
     "iopub.status.busy": "2022-09-26T04:07:09.105189Z",
     "iopub.status.idle": "2022-09-26T04:07:09.113220Z",
     "shell.execute_reply": "2022-09-26T04:07:09.112226Z",
     "shell.execute_reply.started": "2022-09-26T04:07:09.105483Z"
    },
    "papermill": {
     "duration": 0.015601,
     "end_time": "2022-09-26T19:14:19.724482",
     "exception": false,
     "start_time": "2022-09-26T19:14:19.708881",
     "status": "completed"
    },
    "tags": []
   },
   "source": [
    "### Transformation of variables\n",
    "Since the relationship between number of votes and rating is non-linear, transform the variables using square root, square, cube and log and try them all. In our case, there was a linear relationship between the log of rating and log of votes"
   ]
  },
  {
   "cell_type": "code",
   "execution_count": 18,
   "id": "cf9ae51a",
   "metadata": {
    "execution": {
     "iopub.execute_input": "2022-09-26T19:14:19.758799Z",
     "iopub.status.busy": "2022-09-26T19:14:19.758081Z",
     "iopub.status.idle": "2022-09-26T19:14:20.056470Z",
     "shell.execute_reply": "2022-09-26T19:14:20.055314Z"
    },
    "papermill": {
     "duration": 0.318874,
     "end_time": "2022-09-26T19:14:20.059404",
     "exception": false,
     "start_time": "2022-09-26T19:14:19.740530",
     "status": "completed"
    },
    "tags": []
   },
   "outputs": [
    {
     "data": {
      "image/png": "[encoded data removed]",
      "text/plain": [
       "<Figure size 720x576 with 1 Axes>"
      ]
     },
     "metadata": {},
     "output_type": "display_data"
    }
   ],
   "source": [
    "# Transform the variables\n",
    "games['rating_log'] = np.log(games['rating'])\n",
    "games['votes_log'] = np.log(games['votes'])\n",
    "\n",
    "# Get the standard deviation of rating cubed to add noise to the scatterplot\n",
    "games_rating_log_std = games.rating_log.std()\n",
    "\n",
    "# Visualize the relationship of transformed variables\n",
    "fig, ax = plt.subplots(figsize=(10,8))\n",
    "sns.regplot(x='votes_log',y='rating_log',data=games,color='blue',ci=None,\n",
    "            y_jitter=games_rating_log_std,line_kws={'color':'red'},scatter_kws={'alpha':0.5})\n",
    "ax.set(title='Relationship between log of votes and log of rating',xlabel='Log votes',ylabel='Log rating')\n",
    "#plt.ylim([0,1100])\n",
    "plt.show()"
   ]
  },
  {
   "cell_type": "markdown",
   "id": "e69abe6c",
   "metadata": {
    "papermill": {
     "duration": 0.017752,
     "end_time": "2022-09-26T19:14:20.095777",
     "exception": false,
     "start_time": "2022-09-26T19:14:20.078025",
     "status": "completed"
    },
    "tags": []
   },
   "source": [
    "### Regression\n",
    "\n",
    "The model predicts the rating of a game using the year of launch and number of votes received"
   ]
  },
  {
   "cell_type": "code",
   "execution_count": 19,
   "id": "0b015a4a",
   "metadata": {
    "execution": {
     "iopub.execute_input": "2022-09-26T19:14:20.133843Z",
     "iopub.status.busy": "2022-09-26T19:14:20.133424Z",
     "iopub.status.idle": "2022-09-26T19:14:20.182411Z",
     "shell.execute_reply": "2022-09-26T19:14:20.180969Z"
    },
    "papermill": {
     "duration": 0.071772,
     "end_time": "2022-09-26T19:14:20.185883",
     "exception": false,
     "start_time": "2022-09-26T19:14:20.114111",
     "status": "completed"
    },
    "tags": []
   },
   "outputs": [
    {
     "data": {
      "text/html": [
       "<table class=\"simpletable\">\n",
       "<caption>OLS Regression Results</caption>\n",
       "<tr>\n",
       "  <th>Dep. Variable:</th>       <td>rating_log</td>    <th>  R-squared:         </th> <td>   0.109</td> \n",
       "</tr>\n",
       "<tr>\n",
       "  <th>Model:</th>                   <td>OLS</td>       <th>  Adj. R-squared:    </th> <td>   0.109</td> \n",
       "</tr>\n",
       "<tr>\n",
       "  <th>Method:</th>             <td>Least Squares</td>  <th>  F-statistic:       </th> <td>   764.5</td> \n",
       "</tr>\n",
       "<tr>\n",
       "  <th>Date:</th>             <td>Mon, 26 Sep 2022</td> <th>  Prob (F-statistic):</th> <td>5.40e-314</td>\n",
       "</tr>\n",
       "<tr>\n",
       "  <th>Time:</th>                 <td>19:14:20</td>     <th>  Log-Likelihood:    </th> <td>  1809.7</td> \n",
       "</tr>\n",
       "<tr>\n",
       "  <th>No. Observations:</th>      <td> 12532</td>      <th>  AIC:               </th> <td>  -3613.</td> \n",
       "</tr>\n",
       "<tr>\n",
       "  <th>Df Residuals:</th>          <td> 12529</td>      <th>  BIC:               </th> <td>  -3591.</td> \n",
       "</tr>\n",
       "<tr>\n",
       "  <th>Df Model:</th>              <td>     2</td>      <th>                     </th>     <td> </td>    \n",
       "</tr>\n",
       "<tr>\n",
       "  <th>Covariance Type:</th>      <td>nonrobust</td>    <th>                     </th>     <td> </td>    \n",
       "</tr>\n",
       "</table>\n",
       "<table class=\"simpletable\">\n",
       "<tr>\n",
       "      <td></td>         <th>coef</th>     <th>std err</th>      <th>t</th>      <th>P>|t|</th>  <th>[0.025</th>    <th>0.975]</th>  \n",
       "</tr>\n",
       "<tr>\n",
       "  <th>Intercept</th> <td>   -2.4212</td> <td>    0.348</td> <td>   -6.955</td> <td> 0.000</td> <td>   -3.104</td> <td>   -1.739</td>\n",
       "</tr>\n",
       "<tr>\n",
       "  <th>votes_log</th> <td>    0.0399</td> <td>    0.001</td> <td>   35.515</td> <td> 0.000</td> <td>    0.038</td> <td>    0.042</td>\n",
       "</tr>\n",
       "<tr>\n",
       "  <th>year</th>      <td>    0.0021</td> <td>    0.000</td> <td>   11.988</td> <td> 0.000</td> <td>    0.002</td> <td>    0.002</td>\n",
       "</tr>\n",
       "</table>\n",
       "<table class=\"simpletable\">\n",
       "<tr>\n",
       "  <th>Omnibus:</th>       <td>7200.950</td> <th>  Durbin-Watson:     </th> <td>   0.183</td> \n",
       "</tr>\n",
       "<tr>\n",
       "  <th>Prob(Omnibus):</th>  <td> 0.000</td>  <th>  Jarque-Bera (JB):  </th> <td>80975.780</td>\n",
       "</tr>\n",
       "<tr>\n",
       "  <th>Skew:</th>           <td>-2.575</td>  <th>  Prob(JB):          </th> <td>    0.00</td> \n",
       "</tr>\n",
       "<tr>\n",
       "  <th>Kurtosis:</th>       <td>14.338</td>  <th>  Cond. No.          </th> <td>3.73e+05</td> \n",
       "</tr>\n",
       "</table><br/><br/>Notes:<br/>[1] Standard Errors assume that the covariance matrix of the errors is correctly specified.<br/>[2] The condition number is large, 3.73e+05. This might indicate that there are<br/>strong multicollinearity or other numerical problems."
      ],
      "text/plain": [
       "<class 'statsmodels.iolib.summary.Summary'>\n",
       "\"\"\"\n",
       "                            OLS Regression Results                            \n",
       "==============================================================================\n",
       "Dep. Variable:             rating_log   R-squared:                       0.109\n",
       "Model:                            OLS   Adj. R-squared:                  0.109\n",
       "Method:                 Least Squares   F-statistic:                     764.5\n",
       "Date:                Mon, 26 Sep 2022   Prob (F-statistic):          5.40e-314\n",
       "Time:                        19:14:20   Log-Likelihood:                 1809.7\n",
       "No. Observations:               12532   AIC:                            -3613.\n",
       "Df Residuals:                   12529   BIC:                            -3591.\n",
       "Df Model:                           2                                         \n",
       "Covariance Type:            nonrobust                                         \n",
       "==============================================================================\n",
       "                 coef    std err          t      P>|t|      [0.025      0.975]\n",
       "------------------------------------------------------------------------------\n",
       "Intercept     -2.4212      0.348     -6.955      0.000      -3.104      -1.739\n",
       "votes_log      0.0399      0.001     35.515      0.000       0.038       0.042\n",
       "year           0.0021      0.000     11.988      0.000       0.002       0.002\n",
       "==============================================================================\n",
       "Omnibus:                     7200.950   Durbin-Watson:                   0.183\n",
       "Prob(Omnibus):                  0.000   Jarque-Bera (JB):            80975.780\n",
       "Skew:                          -2.575   Prob(JB):                         0.00\n",
       "Kurtosis:                      14.338   Cond. No.                     3.73e+05\n",
       "==============================================================================\n",
       "\n",
       "Notes:\n",
       "[1] Standard Errors assume that the covariance matrix of the errors is correctly specified.\n",
       "[2] The condition number is large, 3.73e+05. This might indicate that there are\n",
       "strong multicollinearity or other numerical problems.\n",
       "\"\"\""
      ]
     },
     "execution_count": 19,
     "metadata": {},
     "output_type": "execute_result"
    }
   ],
   "source": [
    "# Define model \n",
    "model = ols('rating_log ~ votes_log + year',data=games).fit()\n",
    "model.summary()"
   ]
  },
  {
   "cell_type": "markdown",
   "id": "e909fffb",
   "metadata": {
    "papermill": {
     "duration": 0.030185,
     "end_time": "2022-09-26T19:14:20.247065",
     "exception": false,
     "start_time": "2022-09-26T19:14:20.216880",
     "status": "completed"
    },
    "tags": []
   },
   "source": [
    "### Making predictions"
   ]
  },
  {
   "cell_type": "code",
   "execution_count": 20,
   "id": "6fe37a6d",
   "metadata": {
    "execution": {
     "iopub.execute_input": "2022-09-26T19:14:20.299033Z",
     "iopub.status.busy": "2022-09-26T19:14:20.298619Z",
     "iopub.status.idle": "2022-09-26T19:14:20.313736Z",
     "shell.execute_reply": "2022-09-26T19:14:20.312851Z"
    },
    "papermill": {
     "duration": 0.038487,
     "end_time": "2022-09-26T19:14:20.315901",
     "exception": false,
     "start_time": "2022-09-26T19:14:20.277414",
     "status": "completed"
    },
    "tags": []
   },
   "outputs": [
    {
     "data": {
      "text/html": [
       "<div>\n",
       "<style scoped>\n",
       "    .dataframe tbody tr th:only-of-type {\n",
       "        vertical-align: middle;\n",
       "    }\n",
       "\n",
       "    .dataframe tbody tr th {\n",
       "        vertical-align: top;\n",
       "    }\n",
       "\n",
       "    .dataframe thead th {\n",
       "        text-align: right;\n",
       "    }\n",
       "</style>\n",
       "<table border=\"1\" class=\"dataframe\">\n",
       "  <thead>\n",
       "    <tr style=\"text-align: right;\">\n",
       "      <th></th>\n",
       "      <th>votes_log</th>\n",
       "      <th>year</th>\n",
       "    </tr>\n",
       "  </thead>\n",
       "  <tbody>\n",
       "    <tr>\n",
       "      <th>0</th>\n",
       "      <td>0.000000</td>\n",
       "      <td>1940</td>\n",
       "    </tr>\n",
       "    <tr>\n",
       "      <th>1</th>\n",
       "      <td>0.000000</td>\n",
       "      <td>1945</td>\n",
       "    </tr>\n",
       "    <tr>\n",
       "      <th>2</th>\n",
       "      <td>0.000000</td>\n",
       "      <td>1950</td>\n",
       "    </tr>\n",
       "    <tr>\n",
       "      <th>3</th>\n",
       "      <td>0.000000</td>\n",
       "      <td>1955</td>\n",
       "    </tr>\n",
       "    <tr>\n",
       "      <th>4</th>\n",
       "      <td>0.000000</td>\n",
       "      <td>1960</td>\n",
       "    </tr>\n",
       "    <tr>\n",
       "      <th>...</th>\n",
       "      <td>...</td>\n",
       "      <td>...</td>\n",
       "    </tr>\n",
       "    <tr>\n",
       "      <th>420</th>\n",
       "      <td>6.175867</td>\n",
       "      <td>2040</td>\n",
       "    </tr>\n",
       "    <tr>\n",
       "      <th>421</th>\n",
       "      <td>6.175867</td>\n",
       "      <td>2045</td>\n",
       "    </tr>\n",
       "    <tr>\n",
       "      <th>422</th>\n",
       "      <td>6.175867</td>\n",
       "      <td>2050</td>\n",
       "    </tr>\n",
       "    <tr>\n",
       "      <th>423</th>\n",
       "      <td>6.175867</td>\n",
       "      <td>2055</td>\n",
       "    </tr>\n",
       "    <tr>\n",
       "      <th>424</th>\n",
       "      <td>6.175867</td>\n",
       "      <td>2060</td>\n",
       "    </tr>\n",
       "  </tbody>\n",
       "</table>\n",
       "<p>425 rows × 2 columns</p>\n",
       "</div>"
      ],
      "text/plain": [
       "     votes_log  year\n",
       "0     0.000000  1940\n",
       "1     0.000000  1945\n",
       "2     0.000000  1950\n",
       "3     0.000000  1955\n",
       "4     0.000000  1960\n",
       "..         ...   ...\n",
       "420   6.175867  2040\n",
       "421   6.175867  2045\n",
       "422   6.175867  2050\n",
       "423   6.175867  2055\n",
       "424   6.175867  2060\n",
       "\n",
       "[425 rows x 2 columns]"
      ]
     },
     "metadata": {},
     "output_type": "display_data"
    }
   ],
   "source": [
    "# Generate sample values to predict\n",
    "votes_log = np.log(np.arange(1,500,30))\n",
    "year = np.arange(1940,2061,5)\n",
    "\n",
    "# Create different combinations for the votes_log and year\n",
    "p= product(votes_log,year)\n",
    "\n",
    "# Create dataframe to hold the values to be used for prediction\n",
    "prediction_data = pd.DataFrame(p,columns=['votes_log','year'])\n",
    "display(prediction_data)"
   ]
  },
  {
   "cell_type": "code",
   "execution_count": 21,
   "id": "05007023",
   "metadata": {
    "execution": {
     "iopub.execute_input": "2022-09-26T19:14:20.354997Z",
     "iopub.status.busy": "2022-09-26T19:14:20.354254Z",
     "iopub.status.idle": "2022-09-26T19:14:20.369709Z",
     "shell.execute_reply": "2022-09-26T19:14:20.368835Z"
    },
    "papermill": {
     "duration": 0.037548,
     "end_time": "2022-09-26T19:14:20.371953",
     "exception": false,
     "start_time": "2022-09-26T19:14:20.334405",
     "status": "completed"
    },
    "tags": []
   },
   "outputs": [
    {
     "data": {
      "text/html": [
       "<div>\n",
       "<style scoped>\n",
       "    .dataframe tbody tr th:only-of-type {\n",
       "        vertical-align: middle;\n",
       "    }\n",
       "\n",
       "    .dataframe tbody tr th {\n",
       "        vertical-align: top;\n",
       "    }\n",
       "\n",
       "    .dataframe thead th {\n",
       "        text-align: right;\n",
       "    }\n",
       "</style>\n",
       "<table border=\"1\" class=\"dataframe\">\n",
       "  <thead>\n",
       "    <tr style=\"text-align: right;\">\n",
       "      <th></th>\n",
       "      <th>votes_log</th>\n",
       "      <th>year</th>\n",
       "      <th>rating_log</th>\n",
       "    </tr>\n",
       "  </thead>\n",
       "  <tbody>\n",
       "    <tr>\n",
       "      <th>0</th>\n",
       "      <td>0.0</td>\n",
       "      <td>1940</td>\n",
       "      <td>1.623234</td>\n",
       "    </tr>\n",
       "    <tr>\n",
       "      <th>1</th>\n",
       "      <td>0.0</td>\n",
       "      <td>1945</td>\n",
       "      <td>1.633658</td>\n",
       "    </tr>\n",
       "    <tr>\n",
       "      <th>2</th>\n",
       "      <td>0.0</td>\n",
       "      <td>1950</td>\n",
       "      <td>1.644082</td>\n",
       "    </tr>\n",
       "    <tr>\n",
       "      <th>3</th>\n",
       "      <td>0.0</td>\n",
       "      <td>1955</td>\n",
       "      <td>1.654505</td>\n",
       "    </tr>\n",
       "    <tr>\n",
       "      <th>4</th>\n",
       "      <td>0.0</td>\n",
       "      <td>1960</td>\n",
       "      <td>1.664929</td>\n",
       "    </tr>\n",
       "  </tbody>\n",
       "</table>\n",
       "</div>"
      ],
      "text/plain": [
       "   votes_log  year  rating_log\n",
       "0        0.0  1940    1.623234\n",
       "1        0.0  1945    1.633658\n",
       "2        0.0  1950    1.644082\n",
       "3        0.0  1955    1.654505\n",
       "4        0.0  1960    1.664929"
      ]
     },
     "metadata": {},
     "output_type": "display_data"
    }
   ],
   "source": [
    "# Generate the predictions using the model and store the result in the prediction dataset\n",
    "prediction_data = prediction_data.assign(rating_log=model.predict(prediction_data))\n",
    "display(prediction_data.head())"
   ]
  },
  {
   "cell_type": "markdown",
   "id": "2b8ac165",
   "metadata": {
    "papermill": {
     "duration": 0.019506,
     "end_time": "2022-09-26T19:14:20.410303",
     "exception": false,
     "start_time": "2022-09-26T19:14:20.390797",
     "status": "completed"
    },
    "tags": []
   },
   "source": [
    "### Back-transforming the variables\n",
    "The predictions were made using the log of votes and log of rating. To convert these values to their respective antilogs, we use ```np.exp```"
   ]
  },
  {
   "cell_type": "code",
   "execution_count": 22,
   "id": "cd361c6d",
   "metadata": {
    "execution": {
     "iopub.execute_input": "2022-09-26T19:14:20.450248Z",
     "iopub.status.busy": "2022-09-26T19:14:20.449223Z",
     "iopub.status.idle": "2022-09-26T19:14:20.456242Z",
     "shell.execute_reply": "2022-09-26T19:14:20.455180Z"
    },
    "papermill": {
     "duration": 0.029292,
     "end_time": "2022-09-26T19:14:20.458530",
     "exception": false,
     "start_time": "2022-09-26T19:14:20.429238",
     "status": "completed"
    },
    "tags": []
   },
   "outputs": [],
   "source": [
    "# Back transforming the log of votes to votes\n",
    "prediction_data['votes'] = np.exp(prediction_data['votes_log'])\n",
    "\n",
    "# Back transforming the log of rating to rating (antilog of the log of rating)\n",
    "prediction_data['rating'] = np.exp(prediction_data['rating_log'])"
   ]
  },
  {
   "cell_type": "markdown",
   "id": "1e750a40",
   "metadata": {
    "papermill": {
     "duration": 0.018463,
     "end_time": "2022-09-26T19:14:20.495730",
     "exception": false,
     "start_time": "2022-09-26T19:14:20.477267",
     "status": "completed"
    },
    "tags": []
   },
   "source": [
    "The linear regression equation has been used to predict the average rating of video games using the year of launch and the number of votes."
   ]
  },
  {
   "cell_type": "code",
   "execution_count": 23,
   "id": "7529c867",
   "metadata": {
    "execution": {
     "iopub.execute_input": "2022-09-26T19:14:20.536135Z",
     "iopub.status.busy": "2022-09-26T19:14:20.535386Z",
     "iopub.status.idle": "2022-09-26T19:14:20.551586Z",
     "shell.execute_reply": "2022-09-26T19:14:20.550693Z"
    },
    "papermill": {
     "duration": 0.039009,
     "end_time": "2022-09-26T19:14:20.553840",
     "exception": false,
     "start_time": "2022-09-26T19:14:20.514831",
     "status": "completed"
    },
    "tags": []
   },
   "outputs": [
    {
     "data": {
      "text/html": [
       "<div>\n",
       "<style scoped>\n",
       "    .dataframe tbody tr th:only-of-type {\n",
       "        vertical-align: middle;\n",
       "    }\n",
       "\n",
       "    .dataframe tbody tr th {\n",
       "        vertical-align: top;\n",
       "    }\n",
       "\n",
       "    .dataframe thead th {\n",
       "        text-align: right;\n",
       "    }\n",
       "</style>\n",
       "<table border=\"1\" class=\"dataframe\">\n",
       "  <thead>\n",
       "    <tr style=\"text-align: right;\">\n",
       "      <th></th>\n",
       "      <th>votes_log</th>\n",
       "      <th>year</th>\n",
       "      <th>rating_log</th>\n",
       "      <th>votes</th>\n",
       "      <th>rating</th>\n",
       "    </tr>\n",
       "  </thead>\n",
       "  <tbody>\n",
       "    <tr>\n",
       "      <th>0</th>\n",
       "      <td>0.000000</td>\n",
       "      <td>1940</td>\n",
       "      <td>1.623234</td>\n",
       "      <td>1.0</td>\n",
       "      <td>5.069458</td>\n",
       "    </tr>\n",
       "    <tr>\n",
       "      <th>1</th>\n",
       "      <td>0.000000</td>\n",
       "      <td>1945</td>\n",
       "      <td>1.633658</td>\n",
       "      <td>1.0</td>\n",
       "      <td>5.122578</td>\n",
       "    </tr>\n",
       "    <tr>\n",
       "      <th>2</th>\n",
       "      <td>0.000000</td>\n",
       "      <td>1950</td>\n",
       "      <td>1.644082</td>\n",
       "      <td>1.0</td>\n",
       "      <td>5.176254</td>\n",
       "    </tr>\n",
       "    <tr>\n",
       "      <th>3</th>\n",
       "      <td>0.000000</td>\n",
       "      <td>1955</td>\n",
       "      <td>1.654505</td>\n",
       "      <td>1.0</td>\n",
       "      <td>5.230492</td>\n",
       "    </tr>\n",
       "    <tr>\n",
       "      <th>4</th>\n",
       "      <td>0.000000</td>\n",
       "      <td>1960</td>\n",
       "      <td>1.664929</td>\n",
       "      <td>1.0</td>\n",
       "      <td>5.285299</td>\n",
       "    </tr>\n",
       "    <tr>\n",
       "      <th>...</th>\n",
       "      <td>...</td>\n",
       "      <td>...</td>\n",
       "      <td>...</td>\n",
       "      <td>...</td>\n",
       "      <td>...</td>\n",
       "    </tr>\n",
       "    <tr>\n",
       "      <th>420</th>\n",
       "      <td>6.175867</td>\n",
       "      <td>2040</td>\n",
       "      <td>2.078238</td>\n",
       "      <td>481.0</td>\n",
       "      <td>7.990375</td>\n",
       "    </tr>\n",
       "    <tr>\n",
       "      <th>421</th>\n",
       "      <td>6.175867</td>\n",
       "      <td>2045</td>\n",
       "      <td>2.088661</td>\n",
       "      <td>481.0</td>\n",
       "      <td>8.074100</td>\n",
       "    </tr>\n",
       "    <tr>\n",
       "      <th>422</th>\n",
       "      <td>6.175867</td>\n",
       "      <td>2050</td>\n",
       "      <td>2.099085</td>\n",
       "      <td>481.0</td>\n",
       "      <td>8.158703</td>\n",
       "    </tr>\n",
       "    <tr>\n",
       "      <th>423</th>\n",
       "      <td>6.175867</td>\n",
       "      <td>2055</td>\n",
       "      <td>2.109509</td>\n",
       "      <td>481.0</td>\n",
       "      <td>8.244193</td>\n",
       "    </tr>\n",
       "    <tr>\n",
       "      <th>424</th>\n",
       "      <td>6.175867</td>\n",
       "      <td>2060</td>\n",
       "      <td>2.119933</td>\n",
       "      <td>481.0</td>\n",
       "      <td>8.330578</td>\n",
       "    </tr>\n",
       "  </tbody>\n",
       "</table>\n",
       "<p>425 rows × 5 columns</p>\n",
       "</div>"
      ],
      "text/plain": [
       "     votes_log  year  rating_log  votes    rating\n",
       "0     0.000000  1940    1.623234    1.0  5.069458\n",
       "1     0.000000  1945    1.633658    1.0  5.122578\n",
       "2     0.000000  1950    1.644082    1.0  5.176254\n",
       "3     0.000000  1955    1.654505    1.0  5.230492\n",
       "4     0.000000  1960    1.664929    1.0  5.285299\n",
       "..         ...   ...         ...    ...       ...\n",
       "420   6.175867  2040    2.078238  481.0  7.990375\n",
       "421   6.175867  2045    2.088661  481.0  8.074100\n",
       "422   6.175867  2050    2.099085  481.0  8.158703\n",
       "423   6.175867  2055    2.109509  481.0  8.244193\n",
       "424   6.175867  2060    2.119933  481.0  8.330578\n",
       "\n",
       "[425 rows x 5 columns]"
      ]
     },
     "metadata": {},
     "output_type": "display_data"
    }
   ],
   "source": [
    "display(prediction_data)"
   ]
  },
  {
   "cell_type": "markdown",
   "id": "1d15cb96",
   "metadata": {
    "papermill": {
     "duration": 0.018659,
     "end_time": "2022-09-26T19:14:20.591395",
     "exception": false,
     "start_time": "2022-09-26T19:14:20.572736",
     "status": "completed"
    },
    "tags": []
   },
   "source": [
    "Using 1950 and 2050 to show the contrast in the predictions, games produced in 1950 and have 1 vote would have likely had a rating of 5 while those produced in 2050 with 1 vote are likely to have a rating of 6.\n",
    "On the other hand, a game produced in 1950 and having 481 votes would have likely had a rating of 7 while those produced in 2050 with similar votes would likely have a rating of 8"
   ]
  },
  {
   "cell_type": "code",
   "execution_count": 24,
   "id": "46c950c8",
   "metadata": {
    "execution": {
     "iopub.execute_input": "2022-09-26T19:14:20.631738Z",
     "iopub.status.busy": "2022-09-26T19:14:20.631013Z",
     "iopub.status.idle": "2022-09-26T19:14:20.648745Z",
     "shell.execute_reply": "2022-09-26T19:14:20.647690Z"
    },
    "papermill": {
     "duration": 0.041163,
     "end_time": "2022-09-26T19:14:20.651451",
     "exception": false,
     "start_time": "2022-09-26T19:14:20.610288",
     "status": "completed"
    },
    "tags": []
   },
   "outputs": [
    {
     "data": {
      "text/html": [
       "<div>\n",
       "<style scoped>\n",
       "    .dataframe tbody tr th:only-of-type {\n",
       "        vertical-align: middle;\n",
       "    }\n",
       "\n",
       "    .dataframe tbody tr th {\n",
       "        vertical-align: top;\n",
       "    }\n",
       "\n",
       "    .dataframe thead th {\n",
       "        text-align: right;\n",
       "    }\n",
       "</style>\n",
       "<table border=\"1\" class=\"dataframe\">\n",
       "  <thead>\n",
       "    <tr style=\"text-align: right;\">\n",
       "      <th></th>\n",
       "      <th>year</th>\n",
       "      <th>votes</th>\n",
       "      <th>rating</th>\n",
       "    </tr>\n",
       "  </thead>\n",
       "  <tbody>\n",
       "    <tr>\n",
       "      <th>2</th>\n",
       "      <td>1950</td>\n",
       "      <td>1.0</td>\n",
       "      <td>5.176254</td>\n",
       "    </tr>\n",
       "    <tr>\n",
       "      <th>22</th>\n",
       "      <td>2050</td>\n",
       "      <td>1.0</td>\n",
       "      <td>6.376107</td>\n",
       "    </tr>\n",
       "    <tr>\n",
       "      <th>27</th>\n",
       "      <td>1950</td>\n",
       "      <td>31.0</td>\n",
       "      <td>5.936734</td>\n",
       "    </tr>\n",
       "    <tr>\n",
       "      <th>47</th>\n",
       "      <td>2050</td>\n",
       "      <td>31.0</td>\n",
       "      <td>7.312865</td>\n",
       "    </tr>\n",
       "    <tr>\n",
       "      <th>52</th>\n",
       "      <td>1950</td>\n",
       "      <td>61.0</td>\n",
       "      <td>6.099330</td>\n",
       "    </tr>\n",
       "    <tr>\n",
       "      <th>72</th>\n",
       "      <td>2050</td>\n",
       "      <td>61.0</td>\n",
       "      <td>7.513152</td>\n",
       "    </tr>\n",
       "    <tr>\n",
       "      <th>77</th>\n",
       "      <td>1950</td>\n",
       "      <td>91.0</td>\n",
       "      <td>6.197497</td>\n",
       "    </tr>\n",
       "    <tr>\n",
       "      <th>97</th>\n",
       "      <td>2050</td>\n",
       "      <td>91.0</td>\n",
       "      <td>7.634074</td>\n",
       "    </tr>\n",
       "    <tr>\n",
       "      <th>102</th>\n",
       "      <td>1950</td>\n",
       "      <td>121.0</td>\n",
       "      <td>6.268389</td>\n",
       "    </tr>\n",
       "    <tr>\n",
       "      <th>122</th>\n",
       "      <td>2050</td>\n",
       "      <td>121.0</td>\n",
       "      <td>7.721399</td>\n",
       "    </tr>\n",
       "    <tr>\n",
       "      <th>127</th>\n",
       "      <td>1950</td>\n",
       "      <td>151.0</td>\n",
       "      <td>6.324056</td>\n",
       "    </tr>\n",
       "    <tr>\n",
       "      <th>147</th>\n",
       "      <td>2050</td>\n",
       "      <td>151.0</td>\n",
       "      <td>7.789969</td>\n",
       "    </tr>\n",
       "    <tr>\n",
       "      <th>152</th>\n",
       "      <td>1950</td>\n",
       "      <td>181.0</td>\n",
       "      <td>6.369969</td>\n",
       "    </tr>\n",
       "    <tr>\n",
       "      <th>172</th>\n",
       "      <td>2050</td>\n",
       "      <td>181.0</td>\n",
       "      <td>7.846524</td>\n",
       "    </tr>\n",
       "    <tr>\n",
       "      <th>177</th>\n",
       "      <td>1950</td>\n",
       "      <td>211.0</td>\n",
       "      <td>6.409085</td>\n",
       "    </tr>\n",
       "    <tr>\n",
       "      <th>197</th>\n",
       "      <td>2050</td>\n",
       "      <td>211.0</td>\n",
       "      <td>7.894707</td>\n",
       "    </tr>\n",
       "    <tr>\n",
       "      <th>202</th>\n",
       "      <td>1950</td>\n",
       "      <td>241.0</td>\n",
       "      <td>6.443186</td>\n",
       "    </tr>\n",
       "    <tr>\n",
       "      <th>222</th>\n",
       "      <td>2050</td>\n",
       "      <td>241.0</td>\n",
       "      <td>7.936713</td>\n",
       "    </tr>\n",
       "    <tr>\n",
       "      <th>227</th>\n",
       "      <td>1950</td>\n",
       "      <td>271.0</td>\n",
       "      <td>6.473431</td>\n",
       "    </tr>\n",
       "    <tr>\n",
       "      <th>247</th>\n",
       "      <td>2050</td>\n",
       "      <td>271.0</td>\n",
       "      <td>7.973969</td>\n",
       "    </tr>\n",
       "    <tr>\n",
       "      <th>252</th>\n",
       "      <td>1950</td>\n",
       "      <td>301.0</td>\n",
       "      <td>6.500619</td>\n",
       "    </tr>\n",
       "    <tr>\n",
       "      <th>272</th>\n",
       "      <td>2050</td>\n",
       "      <td>301.0</td>\n",
       "      <td>8.007459</td>\n",
       "    </tr>\n",
       "    <tr>\n",
       "      <th>277</th>\n",
       "      <td>1950</td>\n",
       "      <td>331.0</td>\n",
       "      <td>6.525319</td>\n",
       "    </tr>\n",
       "    <tr>\n",
       "      <th>297</th>\n",
       "      <td>2050</td>\n",
       "      <td>331.0</td>\n",
       "      <td>8.037885</td>\n",
       "    </tr>\n",
       "    <tr>\n",
       "      <th>302</th>\n",
       "      <td>1950</td>\n",
       "      <td>361.0</td>\n",
       "      <td>6.547957</td>\n",
       "    </tr>\n",
       "    <tr>\n",
       "      <th>322</th>\n",
       "      <td>2050</td>\n",
       "      <td>361.0</td>\n",
       "      <td>8.065770</td>\n",
       "    </tr>\n",
       "    <tr>\n",
       "      <th>327</th>\n",
       "      <td>1950</td>\n",
       "      <td>391.0</td>\n",
       "      <td>6.568857</td>\n",
       "    </tr>\n",
       "    <tr>\n",
       "      <th>347</th>\n",
       "      <td>2050</td>\n",
       "      <td>391.0</td>\n",
       "      <td>8.091514</td>\n",
       "    </tr>\n",
       "    <tr>\n",
       "      <th>352</th>\n",
       "      <td>1950</td>\n",
       "      <td>421.0</td>\n",
       "      <td>6.588269</td>\n",
       "    </tr>\n",
       "    <tr>\n",
       "      <th>372</th>\n",
       "      <td>2050</td>\n",
       "      <td>421.0</td>\n",
       "      <td>8.115427</td>\n",
       "    </tr>\n",
       "    <tr>\n",
       "      <th>377</th>\n",
       "      <td>1950</td>\n",
       "      <td>451.0</td>\n",
       "      <td>6.606397</td>\n",
       "    </tr>\n",
       "    <tr>\n",
       "      <th>397</th>\n",
       "      <td>2050</td>\n",
       "      <td>451.0</td>\n",
       "      <td>8.137757</td>\n",
       "    </tr>\n",
       "    <tr>\n",
       "      <th>402</th>\n",
       "      <td>1950</td>\n",
       "      <td>481.0</td>\n",
       "      <td>6.623402</td>\n",
       "    </tr>\n",
       "    <tr>\n",
       "      <th>422</th>\n",
       "      <td>2050</td>\n",
       "      <td>481.0</td>\n",
       "      <td>8.158703</td>\n",
       "    </tr>\n",
       "  </tbody>\n",
       "</table>\n",
       "</div>"
      ],
      "text/plain": [
       "     year  votes    rating\n",
       "2    1950    1.0  5.176254\n",
       "22   2050    1.0  6.376107\n",
       "27   1950   31.0  5.936734\n",
       "47   2050   31.0  7.312865\n",
       "52   1950   61.0  6.099330\n",
       "72   2050   61.0  7.513152\n",
       "77   1950   91.0  6.197497\n",
       "97   2050   91.0  7.634074\n",
       "102  1950  121.0  6.268389\n",
       "122  2050  121.0  7.721399\n",
       "127  1950  151.0  6.324056\n",
       "147  2050  151.0  7.789969\n",
       "152  1950  181.0  6.369969\n",
       "172  2050  181.0  7.846524\n",
       "177  1950  211.0  6.409085\n",
       "197  2050  211.0  7.894707\n",
       "202  1950  241.0  6.443186\n",
       "222  2050  241.0  7.936713\n",
       "227  1950  271.0  6.473431\n",
       "247  2050  271.0  7.973969\n",
       "252  1950  301.0  6.500619\n",
       "272  2050  301.0  8.007459\n",
       "277  1950  331.0  6.525319\n",
       "297  2050  331.0  8.037885\n",
       "302  1950  361.0  6.547957\n",
       "322  2050  361.0  8.065770\n",
       "327  1950  391.0  6.568857\n",
       "347  2050  391.0  8.091514\n",
       "352  1950  421.0  6.588269\n",
       "372  2050  421.0  8.115427\n",
       "377  1950  451.0  6.606397\n",
       "397  2050  451.0  8.137757\n",
       "402  1950  481.0  6.623402\n",
       "422  2050  481.0  8.158703"
      ]
     },
     "metadata": {},
     "output_type": "display_data"
    }
   ],
   "source": [
    "# Display year, votes and rating in predicted data for years 1950 and 2050\n",
    "display(prediction_data.loc[(prediction_data['year']==1950) | (prediction_data['year']==2050),\n",
    "                            ['year','votes','rating']])"
   ]
  },
  {
   "cell_type": "code",
   "execution_count": null,
   "id": "eb9e82f2",
   "metadata": {
    "papermill": {
     "duration": 0.01903,
     "end_time": "2022-09-26T19:14:20.689716",
     "exception": false,
     "start_time": "2022-09-26T19:14:20.670686",
     "status": "completed"
    },
    "tags": []
   },
   "outputs": [],
   "source": []
  }
 ],
 "metadata": {
  "kernelspec": {
   "display_name": "Python 3",
   "language": "python",
   "name": "python3"
  },
  "language_info": {
   "codemirror_mode": {
    "name": "ipython",
    "version": 3
   },
   "file_extension": ".py",
   "mimetype": "text/x-python",
   "name": "python",
   "nbconvert_exporter": "python",
   "pygments_lexer": "ipython3",
   "version": "3.7.12"
  },
  "papermill": {
   "default_parameters": {},
   "duration": 14.845984,
   "end_time": "2022-09-26T19:14:21.431488",
   "environment_variables": {},
   "exception": null,
   "input_path": "__notebook__.ipynb",
   "output_path": "__notebook__.ipynb",
   "parameters": {},
   "start_time": "2022-09-26T19:14:06.585504",
   "version": "2.3.4"
  }
 },
 "nbformat": 4,
 "nbformat_minor": 5
}
